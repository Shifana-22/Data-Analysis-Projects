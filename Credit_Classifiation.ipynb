{
  "cells": [
    {
      "cell_type": "markdown",
      "metadata": {
        "id": "view-in-github",
        "colab_type": "text"
      },
      "source": [
        "<a href=\"https://colab.research.google.com/github/Shifana-22/Data-Analysis-Projects/blob/main/Credit_Classifiation.ipynb\" target=\"_parent\"><img src=\"https://colab.research.google.com/assets/colab-badge.svg\" alt=\"Open In Colab\"/></a>"
      ]
    },
    {
      "cell_type": "markdown",
      "source": [
        "# **CREDIT CLASSIFICATION PROBLEM**"
      ],
      "metadata": {
        "id": "w6yPhaqZ0Icg"
      }
    },
    {
      "cell_type": "markdown",
      "source": [
        "C&T Bank wants to identify and understand their customers better to determine the appropriate credit amount to be offered based on multiple factors. The C&T bank possesses a vast dataset containing customer information and other relevant parameters. The C&T bank aims to develop a robust model that can accurately group customer based on their creditworthiness.\n",
        "This will enable the bank to make informed decisions about the credit amount to be extended to each customer group, which can help mitigate risk, ensure responsible lending practices, and optimize loan portfolio management. Additionally, the model\n",
        "can assist the bank in identifying potential high-value customers, tailoring credit offers based on risk profiles, and complying with regulatory requirements.\n"
      ],
      "metadata": {
        "id": "5Aw8J3Pz2eKU"
      }
    },
    {
      "cell_type": "markdown",
      "source": [
        "**PROBLEM STATEMENT:** The problem at hand is to create a reliable model that can effectively categorize customers into three groups based on various factors, enabling the bank to make data-driven decisions for credit lending and risk management."
      ],
      "metadata": {
        "id": "yRlMhj_p0HSf"
      }
    },
    {
      "cell_type": "markdown",
      "source": [
        "To develop a classification model for categorizing customers into three groups based on creditworthiness, we focus on these variables : **credit_history, credits_no, poi, and duration_month**\n",
        "\n",
        "\n",
        "*  credit_history: Shows **how good/bad someone's credit history** is,\n",
        "impacting risk.\n",
        "\n",
        "*  credits_no: Reveals borrowing behavior (**more credits = potentially higher risk).**\n",
        "\n",
        "*   poi (Percentage of Income on Loan Interest): Higher % suggests **higher risk of not repaying**.\n",
        "\n",
        "*   duration_month: Length of credit history, showing **repayment behavior over time.**\n",
        "\n",
        "These factors, along with others, can be used to build a creditworthiness model."
      ],
      "metadata": {
        "id": "KpXbSOfa0HFX"
      }
    },
    {
      "cell_type": "markdown",
      "source": [],
      "metadata": {
        "id": "VVnOD-Fj4G00"
      }
    },
    {
      "cell_type": "markdown",
      "metadata": {
        "id": "o2tOfly-eHfm"
      },
      "source": [
        "# STEP1:DATA-PREPROCESSING"
      ]
    },
    {
      "cell_type": "markdown",
      "source": [
        "PRE-PROCESSING TRAINING-DATA"
      ],
      "metadata": {
        "id": "I8sMGSmQ1_Y-"
      }
    },
    {
      "cell_type": "code",
      "execution_count": null,
      "metadata": {
        "colab": {
          "base_uri": "https://localhost:8080/",
          "height": 300
        },
        "id": "d8PlPSCddhtX",
        "outputId": "4139d5b0-7889-4e62-d7d5-49c26e3d268f"
      },
      "outputs": [
        {
          "data": {
            "application/vnd.google.colaboratory.intrinsic+json": {
              "summary": "{\n  \"name\": \"data\",\n  \"rows\": 8,\n  \"fields\": [\n    {\n      \"column\": \"sno\",\n      \"properties\": {\n        \"dtype\": \"number\",\n        \"std\": 288.0191378976687,\n        \"min\": 1.0,\n        \"max\": 800.0,\n        \"num_unique_values\": 6,\n        \"samples\": [\n          800.0,\n          400.5,\n          600.25\n        ],\n        \"semantic_type\": \"\",\n        \"description\": \"\"\n      }\n    },\n    {\n      \"column\": \"duration_month\",\n      \"properties\": {\n        \"dtype\": \"number\",\n        \"std\": 275.40708613459736,\n        \"min\": 4.0,\n        \"max\": 800.0,\n        \"num_unique_values\": 8,\n        \"samples\": [\n          20.65125,\n          18.0,\n          800.0\n        ],\n        \"semantic_type\": \"\",\n        \"description\": \"\"\n      }\n    },\n    {\n      \"column\": \"poi\",\n      \"properties\": {\n        \"dtype\": \"number\",\n        \"std\": 277.6892514389592,\n        \"min\": 1.0,\n        \"max\": 788.0,\n        \"num_unique_values\": 7,\n        \"samples\": [\n          788.0,\n          2.950507614213198,\n          3.0\n        ],\n        \"semantic_type\": \"\",\n        \"description\": \"\"\n      }\n    },\n    {\n      \"column\": \"resident_since\",\n      \"properties\": {\n        \"dtype\": \"number\",\n        \"std\": 281.9385481232659,\n        \"min\": 1.0,\n        \"max\": 800.0,\n        \"num_unique_values\": 7,\n        \"samples\": [\n          800.0,\n          2.84125,\n          3.0\n        ],\n        \"semantic_type\": \"\",\n        \"description\": \"\"\n      }\n    },\n    {\n      \"column\": \"age\",\n      \"properties\": {\n        \"dtype\": \"number\",\n        \"std\": 269.87576694936064,\n        \"min\": 11.499100608876287,\n        \"max\": 796.0,\n        \"num_unique_values\": 8,\n        \"samples\": [\n          35.40829145728643,\n          33.0,\n          796.0\n        ],\n        \"semantic_type\": \"\",\n        \"description\": \"\"\n      }\n    },\n    {\n      \"column\": \"credits_no\",\n      \"properties\": {\n        \"dtype\": \"number\",\n        \"std\": 282.29089296705416,\n        \"min\": 0.5697734108174874,\n        \"max\": 800.0,\n        \"num_unique_values\": 6,\n        \"samples\": [\n          800.0,\n          1.39625,\n          4.0\n        ],\n        \"semantic_type\": \"\",\n        \"description\": \"\"\n      }\n    },\n    {\n      \"column\": \"liables\",\n      \"properties\": {\n        \"dtype\": \"number\",\n        \"std\": 282.4641423384467,\n        \"min\": 0.35482548725818724,\n        \"max\": 800.0,\n        \"num_unique_values\": 5,\n        \"samples\": [\n          1.1475,\n          2.0,\n          0.35482548725818724\n        ],\n        \"semantic_type\": \"\",\n        \"description\": \"\"\n      }\n    },\n    {\n      \"column\": \"Group_no\",\n      \"properties\": {\n        \"dtype\": \"number\",\n        \"std\": 282.1458404425811,\n        \"min\": 0.7440618068854105,\n        \"max\": 800.0,\n        \"num_unique_values\": 6,\n        \"samples\": [\n          800.0,\n          2.07625,\n          3.0\n        ],\n        \"semantic_type\": \"\",\n        \"description\": \"\"\n      }\n    }\n  ]\n}",
              "type": "dataframe"
            },
            "text/html": [
              "\n",
              "  <div id=\"df-d275fe15-003b-45f2-9bab-bb1dd4886286\" class=\"colab-df-container\">\n",
              "    <div>\n",
              "<style scoped>\n",
              "    .dataframe tbody tr th:only-of-type {\n",
              "        vertical-align: middle;\n",
              "    }\n",
              "\n",
              "    .dataframe tbody tr th {\n",
              "        vertical-align: top;\n",
              "    }\n",
              "\n",
              "    .dataframe thead th {\n",
              "        text-align: right;\n",
              "    }\n",
              "</style>\n",
              "<table border=\"1\" class=\"dataframe\">\n",
              "  <thead>\n",
              "    <tr style=\"text-align: right;\">\n",
              "      <th></th>\n",
              "      <th>sno</th>\n",
              "      <th>duration_month</th>\n",
              "      <th>poi</th>\n",
              "      <th>resident_since</th>\n",
              "      <th>age</th>\n",
              "      <th>credits_no</th>\n",
              "      <th>liables</th>\n",
              "      <th>Group_no</th>\n",
              "    </tr>\n",
              "  </thead>\n",
              "  <tbody>\n",
              "    <tr>\n",
              "      <th>count</th>\n",
              "      <td>800.0000</td>\n",
              "      <td>800.00000</td>\n",
              "      <td>788.000000</td>\n",
              "      <td>800.000000</td>\n",
              "      <td>796.000000</td>\n",
              "      <td>800.000000</td>\n",
              "      <td>800.000000</td>\n",
              "      <td>800.000000</td>\n",
              "    </tr>\n",
              "    <tr>\n",
              "      <th>mean</th>\n",
              "      <td>400.5000</td>\n",
              "      <td>20.65125</td>\n",
              "      <td>2.950508</td>\n",
              "      <td>2.841250</td>\n",
              "      <td>35.408291</td>\n",
              "      <td>1.396250</td>\n",
              "      <td>1.147500</td>\n",
              "      <td>2.076250</td>\n",
              "    </tr>\n",
              "    <tr>\n",
              "      <th>std</th>\n",
              "      <td>231.0844</td>\n",
              "      <td>12.15635</td>\n",
              "      <td>1.130084</td>\n",
              "      <td>1.106833</td>\n",
              "      <td>11.499101</td>\n",
              "      <td>0.569773</td>\n",
              "      <td>0.354825</td>\n",
              "      <td>0.744062</td>\n",
              "    </tr>\n",
              "    <tr>\n",
              "      <th>min</th>\n",
              "      <td>1.0000</td>\n",
              "      <td>4.00000</td>\n",
              "      <td>1.000000</td>\n",
              "      <td>1.000000</td>\n",
              "      <td>19.000000</td>\n",
              "      <td>1.000000</td>\n",
              "      <td>1.000000</td>\n",
              "      <td>1.000000</td>\n",
              "    </tr>\n",
              "    <tr>\n",
              "      <th>25%</th>\n",
              "      <td>200.7500</td>\n",
              "      <td>12.00000</td>\n",
              "      <td>2.000000</td>\n",
              "      <td>2.000000</td>\n",
              "      <td>27.000000</td>\n",
              "      <td>1.000000</td>\n",
              "      <td>1.000000</td>\n",
              "      <td>2.000000</td>\n",
              "    </tr>\n",
              "    <tr>\n",
              "      <th>50%</th>\n",
              "      <td>400.5000</td>\n",
              "      <td>18.00000</td>\n",
              "      <td>3.000000</td>\n",
              "      <td>3.000000</td>\n",
              "      <td>33.000000</td>\n",
              "      <td>1.000000</td>\n",
              "      <td>1.000000</td>\n",
              "      <td>2.000000</td>\n",
              "    </tr>\n",
              "    <tr>\n",
              "      <th>75%</th>\n",
              "      <td>600.2500</td>\n",
              "      <td>24.00000</td>\n",
              "      <td>4.000000</td>\n",
              "      <td>4.000000</td>\n",
              "      <td>41.000000</td>\n",
              "      <td>2.000000</td>\n",
              "      <td>1.000000</td>\n",
              "      <td>3.000000</td>\n",
              "    </tr>\n",
              "    <tr>\n",
              "      <th>max</th>\n",
              "      <td>800.0000</td>\n",
              "      <td>72.00000</td>\n",
              "      <td>4.000000</td>\n",
              "      <td>4.000000</td>\n",
              "      <td>75.000000</td>\n",
              "      <td>4.000000</td>\n",
              "      <td>2.000000</td>\n",
              "      <td>3.000000</td>\n",
              "    </tr>\n",
              "  </tbody>\n",
              "</table>\n",
              "</div>\n",
              "    <div class=\"colab-df-buttons\">\n",
              "\n",
              "  <div class=\"colab-df-container\">\n",
              "    <button class=\"colab-df-convert\" onclick=\"convertToInteractive('df-d275fe15-003b-45f2-9bab-bb1dd4886286')\"\n",
              "            title=\"Convert this dataframe to an interactive table.\"\n",
              "            style=\"display:none;\">\n",
              "\n",
              "  <svg xmlns=\"http://www.w3.org/2000/svg\" height=\"24px\" viewBox=\"0 -960 960 960\">\n",
              "    <path d=\"M120-120v-720h720v720H120Zm60-500h600v-160H180v160Zm220 220h160v-160H400v160Zm0 220h160v-160H400v160ZM180-400h160v-160H180v160Zm440 0h160v-160H620v160ZM180-180h160v-160H180v160Zm440 0h160v-160H620v160Z\"/>\n",
              "  </svg>\n",
              "    </button>\n",
              "\n",
              "  <style>\n",
              "    .colab-df-container {\n",
              "      display:flex;\n",
              "      gap: 12px;\n",
              "    }\n",
              "\n",
              "    .colab-df-convert {\n",
              "      background-color: #E8F0FE;\n",
              "      border: none;\n",
              "      border-radius: 50%;\n",
              "      cursor: pointer;\n",
              "      display: none;\n",
              "      fill: #1967D2;\n",
              "      height: 32px;\n",
              "      padding: 0 0 0 0;\n",
              "      width: 32px;\n",
              "    }\n",
              "\n",
              "    .colab-df-convert:hover {\n",
              "      background-color: #E2EBFA;\n",
              "      box-shadow: 0px 1px 2px rgba(60, 64, 67, 0.3), 0px 1px 3px 1px rgba(60, 64, 67, 0.15);\n",
              "      fill: #174EA6;\n",
              "    }\n",
              "\n",
              "    .colab-df-buttons div {\n",
              "      margin-bottom: 4px;\n",
              "    }\n",
              "\n",
              "    [theme=dark] .colab-df-convert {\n",
              "      background-color: #3B4455;\n",
              "      fill: #D2E3FC;\n",
              "    }\n",
              "\n",
              "    [theme=dark] .colab-df-convert:hover {\n",
              "      background-color: #434B5C;\n",
              "      box-shadow: 0px 1px 3px 1px rgba(0, 0, 0, 0.15);\n",
              "      filter: drop-shadow(0px 1px 2px rgba(0, 0, 0, 0.3));\n",
              "      fill: #FFFFFF;\n",
              "    }\n",
              "  </style>\n",
              "\n",
              "    <script>\n",
              "      const buttonEl =\n",
              "        document.querySelector('#df-d275fe15-003b-45f2-9bab-bb1dd4886286 button.colab-df-convert');\n",
              "      buttonEl.style.display =\n",
              "        google.colab.kernel.accessAllowed ? 'block' : 'none';\n",
              "\n",
              "      async function convertToInteractive(key) {\n",
              "        const element = document.querySelector('#df-d275fe15-003b-45f2-9bab-bb1dd4886286');\n",
              "        const dataTable =\n",
              "          await google.colab.kernel.invokeFunction('convertToInteractive',\n",
              "                                                    [key], {});\n",
              "        if (!dataTable) return;\n",
              "\n",
              "        const docLinkHtml = 'Like what you see? Visit the ' +\n",
              "          '<a target=\"_blank\" href=https://colab.research.google.com/notebooks/data_table.ipynb>data table notebook</a>'\n",
              "          + ' to learn more about interactive tables.';\n",
              "        element.innerHTML = '';\n",
              "        dataTable['output_type'] = 'display_data';\n",
              "        await google.colab.output.renderOutput(dataTable, element);\n",
              "        const docLink = document.createElement('div');\n",
              "        docLink.innerHTML = docLinkHtml;\n",
              "        element.appendChild(docLink);\n",
              "      }\n",
              "    </script>\n",
              "  </div>\n",
              "\n",
              "\n",
              "<div id=\"df-dae1979c-745d-41a3-9152-9f3daee282f2\">\n",
              "  <button class=\"colab-df-quickchart\" onclick=\"quickchart('df-dae1979c-745d-41a3-9152-9f3daee282f2')\"\n",
              "            title=\"Suggest charts\"\n",
              "            style=\"display:none;\">\n",
              "\n",
              "<svg xmlns=\"http://www.w3.org/2000/svg\" height=\"24px\"viewBox=\"0 0 24 24\"\n",
              "     width=\"24px\">\n",
              "    <g>\n",
              "        <path d=\"M19 3H5c-1.1 0-2 .9-2 2v14c0 1.1.9 2 2 2h14c1.1 0 2-.9 2-2V5c0-1.1-.9-2-2-2zM9 17H7v-7h2v7zm4 0h-2V7h2v10zm4 0h-2v-4h2v4z\"/>\n",
              "    </g>\n",
              "</svg>\n",
              "  </button>\n",
              "\n",
              "<style>\n",
              "  .colab-df-quickchart {\n",
              "      --bg-color: #E8F0FE;\n",
              "      --fill-color: #1967D2;\n",
              "      --hover-bg-color: #E2EBFA;\n",
              "      --hover-fill-color: #174EA6;\n",
              "      --disabled-fill-color: #AAA;\n",
              "      --disabled-bg-color: #DDD;\n",
              "  }\n",
              "\n",
              "  [theme=dark] .colab-df-quickchart {\n",
              "      --bg-color: #3B4455;\n",
              "      --fill-color: #D2E3FC;\n",
              "      --hover-bg-color: #434B5C;\n",
              "      --hover-fill-color: #FFFFFF;\n",
              "      --disabled-bg-color: #3B4455;\n",
              "      --disabled-fill-color: #666;\n",
              "  }\n",
              "\n",
              "  .colab-df-quickchart {\n",
              "    background-color: var(--bg-color);\n",
              "    border: none;\n",
              "    border-radius: 50%;\n",
              "    cursor: pointer;\n",
              "    display: none;\n",
              "    fill: var(--fill-color);\n",
              "    height: 32px;\n",
              "    padding: 0;\n",
              "    width: 32px;\n",
              "  }\n",
              "\n",
              "  .colab-df-quickchart:hover {\n",
              "    background-color: var(--hover-bg-color);\n",
              "    box-shadow: 0 1px 2px rgba(60, 64, 67, 0.3), 0 1px 3px 1px rgba(60, 64, 67, 0.15);\n",
              "    fill: var(--button-hover-fill-color);\n",
              "  }\n",
              "\n",
              "  .colab-df-quickchart-complete:disabled,\n",
              "  .colab-df-quickchart-complete:disabled:hover {\n",
              "    background-color: var(--disabled-bg-color);\n",
              "    fill: var(--disabled-fill-color);\n",
              "    box-shadow: none;\n",
              "  }\n",
              "\n",
              "  .colab-df-spinner {\n",
              "    border: 2px solid var(--fill-color);\n",
              "    border-color: transparent;\n",
              "    border-bottom-color: var(--fill-color);\n",
              "    animation:\n",
              "      spin 1s steps(1) infinite;\n",
              "  }\n",
              "\n",
              "  @keyframes spin {\n",
              "    0% {\n",
              "      border-color: transparent;\n",
              "      border-bottom-color: var(--fill-color);\n",
              "      border-left-color: var(--fill-color);\n",
              "    }\n",
              "    20% {\n",
              "      border-color: transparent;\n",
              "      border-left-color: var(--fill-color);\n",
              "      border-top-color: var(--fill-color);\n",
              "    }\n",
              "    30% {\n",
              "      border-color: transparent;\n",
              "      border-left-color: var(--fill-color);\n",
              "      border-top-color: var(--fill-color);\n",
              "      border-right-color: var(--fill-color);\n",
              "    }\n",
              "    40% {\n",
              "      border-color: transparent;\n",
              "      border-right-color: var(--fill-color);\n",
              "      border-top-color: var(--fill-color);\n",
              "    }\n",
              "    60% {\n",
              "      border-color: transparent;\n",
              "      border-right-color: var(--fill-color);\n",
              "    }\n",
              "    80% {\n",
              "      border-color: transparent;\n",
              "      border-right-color: var(--fill-color);\n",
              "      border-bottom-color: var(--fill-color);\n",
              "    }\n",
              "    90% {\n",
              "      border-color: transparent;\n",
              "      border-bottom-color: var(--fill-color);\n",
              "    }\n",
              "  }\n",
              "</style>\n",
              "\n",
              "  <script>\n",
              "    async function quickchart(key) {\n",
              "      const quickchartButtonEl =\n",
              "        document.querySelector('#' + key + ' button');\n",
              "      quickchartButtonEl.disabled = true;  // To prevent multiple clicks.\n",
              "      quickchartButtonEl.classList.add('colab-df-spinner');\n",
              "      try {\n",
              "        const charts = await google.colab.kernel.invokeFunction(\n",
              "            'suggestCharts', [key], {});\n",
              "      } catch (error) {\n",
              "        console.error('Error during call to suggestCharts:', error);\n",
              "      }\n",
              "      quickchartButtonEl.classList.remove('colab-df-spinner');\n",
              "      quickchartButtonEl.classList.add('colab-df-quickchart-complete');\n",
              "    }\n",
              "    (() => {\n",
              "      let quickchartButtonEl =\n",
              "        document.querySelector('#df-dae1979c-745d-41a3-9152-9f3daee282f2 button');\n",
              "      quickchartButtonEl.style.display =\n",
              "        google.colab.kernel.accessAllowed ? 'block' : 'none';\n",
              "    })();\n",
              "  </script>\n",
              "</div>\n",
              "\n",
              "    </div>\n",
              "  </div>\n"
            ],
            "text/plain": [
              "            sno  duration_month         poi  resident_since         age  \\\n",
              "count  800.0000       800.00000  788.000000      800.000000  796.000000   \n",
              "mean   400.5000        20.65125    2.950508        2.841250   35.408291   \n",
              "std    231.0844        12.15635    1.130084        1.106833   11.499101   \n",
              "min      1.0000         4.00000    1.000000        1.000000   19.000000   \n",
              "25%    200.7500        12.00000    2.000000        2.000000   27.000000   \n",
              "50%    400.5000        18.00000    3.000000        3.000000   33.000000   \n",
              "75%    600.2500        24.00000    4.000000        4.000000   41.000000   \n",
              "max    800.0000        72.00000    4.000000        4.000000   75.000000   \n",
              "\n",
              "       credits_no     liables    Group_no  \n",
              "count  800.000000  800.000000  800.000000  \n",
              "mean     1.396250    1.147500    2.076250  \n",
              "std      0.569773    0.354825    0.744062  \n",
              "min      1.000000    1.000000    1.000000  \n",
              "25%      1.000000    1.000000    2.000000  \n",
              "50%      1.000000    1.000000    2.000000  \n",
              "75%      2.000000    1.000000    3.000000  \n",
              "max      4.000000    2.000000    3.000000  "
            ]
          },
          "execution_count": 2,
          "metadata": {},
          "output_type": "execute_result"
        }
      ],
      "source": [
        "import pandas as pd\n",
        "import numpy as np\n",
        "data = pd.read_csv('/content/C&T train dataset.csv')\n",
        "data.describe()"
      ]
    },
    {
      "cell_type": "code",
      "execution_count": null,
      "metadata": {
        "colab": {
          "base_uri": "https://localhost:8080/"
        },
        "id": "7SL1se1UeFAN",
        "outputId": "2735e35e-abed-4218-f0b8-62e5cd88c86e"
      },
      "outputs": [
        {
          "name": "stdout",
          "output_type": "stream",
          "text": [
            "<class 'pandas.core.frame.DataFrame'>\n",
            "RangeIndex: 800 entries, 0 to 799\n",
            "Data columns (total 21 columns):\n",
            " #   Column            Non-Null Count  Dtype  \n",
            "---  ------            --------------  -----  \n",
            " 0   sno               800 non-null    int64  \n",
            " 1   acc_info          800 non-null    object \n",
            " 2   duration_month    800 non-null    int64  \n",
            " 3   credit_history    800 non-null    object \n",
            " 4   purpose           800 non-null    object \n",
            " 5   savings_acc       800 non-null    object \n",
            " 6   employment_st     792 non-null    object \n",
            " 7   poi               788 non-null    float64\n",
            " 8   personal_status   800 non-null    object \n",
            " 9   gurantors         792 non-null    object \n",
            " 10  resident_since    800 non-null    int64  \n",
            " 11  property_type     800 non-null    object \n",
            " 12  age               796 non-null    float64\n",
            " 13  installment_type  800 non-null    object \n",
            " 14  housing_type      793 non-null    object \n",
            " 15  credits_no        800 non-null    int64  \n",
            " 16  job_type          800 non-null    object \n",
            " 17  liables           800 non-null    int64  \n",
            " 18  telephone         800 non-null    object \n",
            " 19  foreigner         800 non-null    object \n",
            " 20  Group_no          800 non-null    int64  \n",
            "dtypes: float64(2), int64(6), object(13)\n",
            "memory usage: 131.4+ KB\n"
          ]
        }
      ],
      "source": [
        "data.info()"
      ]
    },
    {
      "cell_type": "markdown",
      "source": [
        "CHECKING FOR NULL VALUES"
      ],
      "metadata": {
        "id": "YSeLEdcB2C_B"
      }
    },
    {
      "cell_type": "code",
      "execution_count": null,
      "metadata": {
        "colab": {
          "base_uri": "https://localhost:8080/"
        },
        "id": "naHs2FlpeCEW",
        "outputId": "e4012360-6e99-41cb-8fa3-d3168a2eb785"
      },
      "outputs": [
        {
          "name": "stdout",
          "output_type": "stream",
          "text": [
            "sno                  0\n",
            "acc_info             0\n",
            "duration_month       0\n",
            "credit_history       0\n",
            "purpose              0\n",
            "savings_acc          0\n",
            "employment_st        8\n",
            "poi                 12\n",
            "personal_status      0\n",
            "gurantors            8\n",
            "resident_since       0\n",
            "property_type        0\n",
            "age                  4\n",
            "installment_type     0\n",
            "housing_type         7\n",
            "credits_no           0\n",
            "job_type             0\n",
            "liables              0\n",
            "telephone            0\n",
            "foreigner            0\n",
            "Group_no             0\n",
            "dtype: int64\n"
          ]
        }
      ],
      "source": [
        "data.isnull()\n",
        "null_values = data.isnull().sum()\n",
        "print(null_values)"
      ]
    },
    {
      "cell_type": "markdown",
      "source": [
        "HANDLING NULL VALUES BY IMPUTATION"
      ],
      "metadata": {
        "id": "BKAvtqq72GIU"
      }
    },
    {
      "cell_type": "code",
      "execution_count": null,
      "metadata": {
        "colab": {
          "base_uri": "https://localhost:8080/"
        },
        "id": "j-eRhgIAd_5p",
        "outputId": "3d9844c3-9763-4c94-c2d3-80cc8b4b6424"
      },
      "outputs": [
        {
          "name": "stdout",
          "output_type": "stream",
          "text": [
            "sno                 0\n",
            "acc_info            0\n",
            "duration_month      0\n",
            "credit_history      0\n",
            "purpose             0\n",
            "savings_acc         0\n",
            "employment_st       0\n",
            "poi                 0\n",
            "personal_status     0\n",
            "gurantors           0\n",
            "resident_since      0\n",
            "property_type       0\n",
            "age                 0\n",
            "installment_type    0\n",
            "housing_type        0\n",
            "credits_no          0\n",
            "job_type            0\n",
            "liables             0\n",
            "telephone           0\n",
            "foreigner           0\n",
            "Group_no            0\n",
            "dtype: int64\n"
          ]
        }
      ],
      "source": [
        "from sklearn.impute import SimpleImputer\n",
        "\n",
        "# Initialize SimpleImputer with strategy='mean' for numerical columns and strategy='most_frequent' for categorical columns\n",
        "imputer_numeric = SimpleImputer(strategy='mean')\n",
        "imputer_categorical = SimpleImputer(strategy='most_frequent')\n",
        "\n",
        "# List of numerical and categorical columns with missing values\n",
        "numerical_columns_with_missing = ['poi', 'age']\n",
        "categorical_columns_with_missing = ['employment_st', 'gurantors', 'housing_type']\n",
        "\n",
        "# Impute missing values in numerical columns\n",
        "data[numerical_columns_with_missing] = imputer_numeric.fit_transform(data[numerical_columns_with_missing])\n",
        "\n",
        "# Impute missing values in categorical columns\n",
        "data[categorical_columns_with_missing] = imputer_categorical.fit_transform(data[categorical_columns_with_missing])\n",
        "\n",
        "# Check if there are any remaining missing values\n",
        "null_values_after_imputation = data.isnull().sum()\n",
        "print(null_values_after_imputation)\n"
      ]
    },
    {
      "cell_type": "markdown",
      "source": [
        "ENCODING AND SCALING VARIABLES"
      ],
      "metadata": {
        "id": "d6WtR7HJ2Kli"
      }
    },
    {
      "cell_type": "code",
      "execution_count": null,
      "metadata": {
        "colab": {
          "base_uri": "https://localhost:8080/"
        },
        "id": "o66qvMThe26A",
        "outputId": "1c026856-5a15-496b-c527-54cfacc36bb2"
      },
      "outputs": [
        {
          "name": "stdout",
          "output_type": "stream",
          "text": [
            "        sno  duration_month       poi  resident_since       age  credits_no  \\\n",
            "0 -1.729887       -1.205988  0.936324        1.047561  2.755946    1.060295   \n",
            "1 -1.725557        2.251158 -0.848013       -0.760527 -1.169691   -0.695887   \n",
            "2 -1.721227       -0.712110 -0.848013        0.143517  1.185691   -0.695887   \n",
            "3 -1.716897        1.757280 -0.848013        1.047561  0.836746   -0.695887   \n",
            "4 -1.712567        0.275646  0.044156        1.047561  1.534637    1.060295   \n",
            "\n",
            "    liables  Group_no  acc_info_A11  acc_info_A12  ...  housing_type_A152  \\\n",
            "0 -0.415957         3          True         False  ...               True   \n",
            "1 -0.415957         1         False          True  ...               True   \n",
            "2  2.404093         2         False         False  ...               True   \n",
            "3  2.404093         1          True         False  ...              False   \n",
            "4  2.404093         1          True         False  ...              False   \n",
            "\n",
            "   housing_type_A153  job_type_A171  job_type_A172  job_type_A173  \\\n",
            "0              False          False          False           True   \n",
            "1              False          False          False           True   \n",
            "2              False          False           True          False   \n",
            "3               True          False          False           True   \n",
            "4               True          False          False           True   \n",
            "\n",
            "   job_type_A174  telephone_A191  telephone_A192  foreigner_A201  \\\n",
            "0          False           False            True            True   \n",
            "1          False            True           False            True   \n",
            "2          False            True           False            True   \n",
            "3          False            True           False            True   \n",
            "4          False            True           False            True   \n",
            "\n",
            "   foreigner_A202  \n",
            "0           False  \n",
            "1           False  \n",
            "2           False  \n",
            "3           False  \n",
            "4           False  \n",
            "\n",
            "[5 rows x 62 columns]\n"
          ]
        }
      ],
      "source": [
        "from sklearn.preprocessing import StandardScaler\n",
        "\n",
        "# Encode categorical variables using one-hot encoding\n",
        "data_encoded = pd.get_dummies(data, columns=['acc_info', 'credit_history', 'purpose', 'savings_acc', 'employment_st', 'personal_status', 'gurantors', 'property_type', 'installment_type', 'housing_type', 'job_type', 'telephone', 'foreigner'])\n",
        "\n",
        "# Scale numerical variables\n",
        "# List of numerical columns to be scaled\n",
        "numerical_columns = ['sno', 'duration_month', 'poi', 'resident_since', 'age', 'credits_no', 'liables']\n",
        "# Initialize the scaler\n",
        "scaler = StandardScaler()\n",
        "# Fit and transform the numerical columns\n",
        "data_encoded[numerical_columns] = scaler.fit_transform(data_encoded[numerical_columns])\n",
        "\n",
        "# Check the transformed dataset\n",
        "print(data_encoded.head())\n"
      ]
    },
    {
      "cell_type": "markdown",
      "metadata": {
        "id": "xf6_ERpTeyga"
      },
      "source": [
        "PRE-PREPROCESSING TEST-DATASET"
      ]
    },
    {
      "cell_type": "code",
      "execution_count": null,
      "metadata": {
        "colab": {
          "base_uri": "https://localhost:8080/",
          "height": 300
        },
        "id": "B1ClKDqzey0B",
        "outputId": "95c668d0-611c-4cc4-aceb-c8d99d170527"
      },
      "outputs": [
        {
          "data": {
            "application/vnd.google.colaboratory.intrinsic+json": {
              "summary": "{\n  \"name\": \"test_df\",\n  \"rows\": 8,\n  \"fields\": [\n    {\n      \"column\": \"sno\",\n      \"properties\": {\n        \"dtype\": \"number\",\n        \"std\": 71.77644232399086,\n        \"min\": 1.0,\n        \"max\": 200.0,\n        \"num_unique_values\": 6,\n        \"samples\": [\n          200.0,\n          100.5,\n          150.25\n        ],\n        \"semantic_type\": \"\",\n        \"description\": \"\"\n      }\n    },\n    {\n      \"column\": \"duration_month\",\n      \"properties\": {\n        \"dtype\": \"number\",\n        \"std\": 65.03307463024761,\n        \"min\": 4.0,\n        \"max\": 200.0,\n        \"num_unique_values\": 8,\n        \"samples\": [\n          21.91,\n          20.0,\n          200.0\n        ],\n        \"semantic_type\": \"\",\n        \"description\": \"\"\n      }\n    },\n    {\n      \"column\": \"poi\",\n      \"properties\": {\n        \"dtype\": \"number\",\n        \"std\": 68.0408714340786,\n        \"min\": 1.0,\n        \"max\": 195.0,\n        \"num_unique_values\": 7,\n        \"samples\": [\n          195.0,\n          2.9743589743589745,\n          3.0\n        ],\n        \"semantic_type\": \"\",\n        \"description\": \"\"\n      }\n    },\n    {\n      \"column\": \"resident_since\",\n      \"properties\": {\n        \"dtype\": \"number\",\n        \"std\": 69.81341871306923,\n        \"min\": 1.0,\n        \"max\": 200.0,\n        \"num_unique_values\": 7,\n        \"samples\": [\n          200.0,\n          2.86,\n          3.0\n        ],\n        \"semantic_type\": \"\",\n        \"description\": \"\"\n      }\n    },\n    {\n      \"column\": \"age\",\n      \"properties\": {\n        \"dtype\": \"number\",\n        \"std\": 60.34098402796055,\n        \"min\": 11.05380765122213,\n        \"max\": 198.0,\n        \"num_unique_values\": 8,\n        \"samples\": [\n          36.10606060606061,\n          33.0,\n          198.0\n        ],\n        \"semantic_type\": \"\",\n        \"description\": \"\"\n      }\n    },\n    {\n      \"column\": \"credits_no\",\n      \"properties\": {\n        \"dtype\": \"number\",\n        \"std\": 70.16032730819978,\n        \"min\": 0.6077390341818943,\n        \"max\": 200.0,\n        \"num_unique_values\": 6,\n        \"samples\": [\n          200.0,\n          1.45,\n          4.0\n        ],\n        \"semantic_type\": \"\",\n        \"description\": \"\"\n      }\n    },\n    {\n      \"column\": \"liables\",\n      \"properties\": {\n        \"dtype\": \"number\",\n        \"std\": 70.32950098327929,\n        \"min\": 0.38927196574706346,\n        \"max\": 200.0,\n        \"num_unique_values\": 5,\n        \"samples\": [\n          1.185,\n          2.0,\n          0.38927196574706346\n        ],\n        \"semantic_type\": \"\",\n        \"description\": \"\"\n      }\n    }\n  ]\n}",
              "type": "dataframe"
            },
            "text/html": [
              "\n",
              "  <div id=\"df-df28ee1a-ef89-4d39-9080-6a303b3e5012\" class=\"colab-df-container\">\n",
              "    <div>\n",
              "<style scoped>\n",
              "    .dataframe tbody tr th:only-of-type {\n",
              "        vertical-align: middle;\n",
              "    }\n",
              "\n",
              "    .dataframe tbody tr th {\n",
              "        vertical-align: top;\n",
              "    }\n",
              "\n",
              "    .dataframe thead th {\n",
              "        text-align: right;\n",
              "    }\n",
              "</style>\n",
              "<table border=\"1\" class=\"dataframe\">\n",
              "  <thead>\n",
              "    <tr style=\"text-align: right;\">\n",
              "      <th></th>\n",
              "      <th>sno</th>\n",
              "      <th>duration_month</th>\n",
              "      <th>poi</th>\n",
              "      <th>resident_since</th>\n",
              "      <th>age</th>\n",
              "      <th>credits_no</th>\n",
              "      <th>liables</th>\n",
              "    </tr>\n",
              "  </thead>\n",
              "  <tbody>\n",
              "    <tr>\n",
              "      <th>count</th>\n",
              "      <td>200.000000</td>\n",
              "      <td>200.000000</td>\n",
              "      <td>195.000000</td>\n",
              "      <td>200.000000</td>\n",
              "      <td>198.000000</td>\n",
              "      <td>200.000000</td>\n",
              "      <td>200.000000</td>\n",
              "    </tr>\n",
              "    <tr>\n",
              "      <th>mean</th>\n",
              "      <td>100.500000</td>\n",
              "      <td>21.910000</td>\n",
              "      <td>2.974359</td>\n",
              "      <td>2.860000</td>\n",
              "      <td>36.106061</td>\n",
              "      <td>1.450000</td>\n",
              "      <td>1.185000</td>\n",
              "    </tr>\n",
              "    <tr>\n",
              "      <th>std</th>\n",
              "      <td>57.879185</td>\n",
              "      <td>11.635671</td>\n",
              "      <td>1.081408</td>\n",
              "      <td>1.093792</td>\n",
              "      <td>11.053808</td>\n",
              "      <td>0.607739</td>\n",
              "      <td>0.389272</td>\n",
              "    </tr>\n",
              "    <tr>\n",
              "      <th>min</th>\n",
              "      <td>1.000000</td>\n",
              "      <td>4.000000</td>\n",
              "      <td>1.000000</td>\n",
              "      <td>1.000000</td>\n",
              "      <td>20.000000</td>\n",
              "      <td>1.000000</td>\n",
              "      <td>1.000000</td>\n",
              "    </tr>\n",
              "    <tr>\n",
              "      <th>25%</th>\n",
              "      <td>50.750000</td>\n",
              "      <td>12.000000</td>\n",
              "      <td>2.000000</td>\n",
              "      <td>2.000000</td>\n",
              "      <td>28.000000</td>\n",
              "      <td>1.000000</td>\n",
              "      <td>1.000000</td>\n",
              "    </tr>\n",
              "    <tr>\n",
              "      <th>50%</th>\n",
              "      <td>100.500000</td>\n",
              "      <td>20.000000</td>\n",
              "      <td>3.000000</td>\n",
              "      <td>3.000000</td>\n",
              "      <td>33.000000</td>\n",
              "      <td>1.000000</td>\n",
              "      <td>1.000000</td>\n",
              "    </tr>\n",
              "    <tr>\n",
              "      <th>75%</th>\n",
              "      <td>150.250000</td>\n",
              "      <td>27.250000</td>\n",
              "      <td>4.000000</td>\n",
              "      <td>4.000000</td>\n",
              "      <td>43.000000</td>\n",
              "      <td>2.000000</td>\n",
              "      <td>1.000000</td>\n",
              "    </tr>\n",
              "    <tr>\n",
              "      <th>max</th>\n",
              "      <td>200.000000</td>\n",
              "      <td>60.000000</td>\n",
              "      <td>4.000000</td>\n",
              "      <td>4.000000</td>\n",
              "      <td>68.000000</td>\n",
              "      <td>4.000000</td>\n",
              "      <td>2.000000</td>\n",
              "    </tr>\n",
              "  </tbody>\n",
              "</table>\n",
              "</div>\n",
              "    <div class=\"colab-df-buttons\">\n",
              "\n",
              "  <div class=\"colab-df-container\">\n",
              "    <button class=\"colab-df-convert\" onclick=\"convertToInteractive('df-df28ee1a-ef89-4d39-9080-6a303b3e5012')\"\n",
              "            title=\"Convert this dataframe to an interactive table.\"\n",
              "            style=\"display:none;\">\n",
              "\n",
              "  <svg xmlns=\"http://www.w3.org/2000/svg\" height=\"24px\" viewBox=\"0 -960 960 960\">\n",
              "    <path d=\"M120-120v-720h720v720H120Zm60-500h600v-160H180v160Zm220 220h160v-160H400v160Zm0 220h160v-160H400v160ZM180-400h160v-160H180v160Zm440 0h160v-160H620v160ZM180-180h160v-160H180v160Zm440 0h160v-160H620v160Z\"/>\n",
              "  </svg>\n",
              "    </button>\n",
              "\n",
              "  <style>\n",
              "    .colab-df-container {\n",
              "      display:flex;\n",
              "      gap: 12px;\n",
              "    }\n",
              "\n",
              "    .colab-df-convert {\n",
              "      background-color: #E8F0FE;\n",
              "      border: none;\n",
              "      border-radius: 50%;\n",
              "      cursor: pointer;\n",
              "      display: none;\n",
              "      fill: #1967D2;\n",
              "      height: 32px;\n",
              "      padding: 0 0 0 0;\n",
              "      width: 32px;\n",
              "    }\n",
              "\n",
              "    .colab-df-convert:hover {\n",
              "      background-color: #E2EBFA;\n",
              "      box-shadow: 0px 1px 2px rgba(60, 64, 67, 0.3), 0px 1px 3px 1px rgba(60, 64, 67, 0.15);\n",
              "      fill: #174EA6;\n",
              "    }\n",
              "\n",
              "    .colab-df-buttons div {\n",
              "      margin-bottom: 4px;\n",
              "    }\n",
              "\n",
              "    [theme=dark] .colab-df-convert {\n",
              "      background-color: #3B4455;\n",
              "      fill: #D2E3FC;\n",
              "    }\n",
              "\n",
              "    [theme=dark] .colab-df-convert:hover {\n",
              "      background-color: #434B5C;\n",
              "      box-shadow: 0px 1px 3px 1px rgba(0, 0, 0, 0.15);\n",
              "      filter: drop-shadow(0px 1px 2px rgba(0, 0, 0, 0.3));\n",
              "      fill: #FFFFFF;\n",
              "    }\n",
              "  </style>\n",
              "\n",
              "    <script>\n",
              "      const buttonEl =\n",
              "        document.querySelector('#df-df28ee1a-ef89-4d39-9080-6a303b3e5012 button.colab-df-convert');\n",
              "      buttonEl.style.display =\n",
              "        google.colab.kernel.accessAllowed ? 'block' : 'none';\n",
              "\n",
              "      async function convertToInteractive(key) {\n",
              "        const element = document.querySelector('#df-df28ee1a-ef89-4d39-9080-6a303b3e5012');\n",
              "        const dataTable =\n",
              "          await google.colab.kernel.invokeFunction('convertToInteractive',\n",
              "                                                    [key], {});\n",
              "        if (!dataTable) return;\n",
              "\n",
              "        const docLinkHtml = 'Like what you see? Visit the ' +\n",
              "          '<a target=\"_blank\" href=https://colab.research.google.com/notebooks/data_table.ipynb>data table notebook</a>'\n",
              "          + ' to learn more about interactive tables.';\n",
              "        element.innerHTML = '';\n",
              "        dataTable['output_type'] = 'display_data';\n",
              "        await google.colab.output.renderOutput(dataTable, element);\n",
              "        const docLink = document.createElement('div');\n",
              "        docLink.innerHTML = docLinkHtml;\n",
              "        element.appendChild(docLink);\n",
              "      }\n",
              "    </script>\n",
              "  </div>\n",
              "\n",
              "\n",
              "<div id=\"df-cd712105-e640-4231-b672-5e6a1f4b3567\">\n",
              "  <button class=\"colab-df-quickchart\" onclick=\"quickchart('df-cd712105-e640-4231-b672-5e6a1f4b3567')\"\n",
              "            title=\"Suggest charts\"\n",
              "            style=\"display:none;\">\n",
              "\n",
              "<svg xmlns=\"http://www.w3.org/2000/svg\" height=\"24px\"viewBox=\"0 0 24 24\"\n",
              "     width=\"24px\">\n",
              "    <g>\n",
              "        <path d=\"M19 3H5c-1.1 0-2 .9-2 2v14c0 1.1.9 2 2 2h14c1.1 0 2-.9 2-2V5c0-1.1-.9-2-2-2zM9 17H7v-7h2v7zm4 0h-2V7h2v10zm4 0h-2v-4h2v4z\"/>\n",
              "    </g>\n",
              "</svg>\n",
              "  </button>\n",
              "\n",
              "<style>\n",
              "  .colab-df-quickchart {\n",
              "      --bg-color: #E8F0FE;\n",
              "      --fill-color: #1967D2;\n",
              "      --hover-bg-color: #E2EBFA;\n",
              "      --hover-fill-color: #174EA6;\n",
              "      --disabled-fill-color: #AAA;\n",
              "      --disabled-bg-color: #DDD;\n",
              "  }\n",
              "\n",
              "  [theme=dark] .colab-df-quickchart {\n",
              "      --bg-color: #3B4455;\n",
              "      --fill-color: #D2E3FC;\n",
              "      --hover-bg-color: #434B5C;\n",
              "      --hover-fill-color: #FFFFFF;\n",
              "      --disabled-bg-color: #3B4455;\n",
              "      --disabled-fill-color: #666;\n",
              "  }\n",
              "\n",
              "  .colab-df-quickchart {\n",
              "    background-color: var(--bg-color);\n",
              "    border: none;\n",
              "    border-radius: 50%;\n",
              "    cursor: pointer;\n",
              "    display: none;\n",
              "    fill: var(--fill-color);\n",
              "    height: 32px;\n",
              "    padding: 0;\n",
              "    width: 32px;\n",
              "  }\n",
              "\n",
              "  .colab-df-quickchart:hover {\n",
              "    background-color: var(--hover-bg-color);\n",
              "    box-shadow: 0 1px 2px rgba(60, 64, 67, 0.3), 0 1px 3px 1px rgba(60, 64, 67, 0.15);\n",
              "    fill: var(--button-hover-fill-color);\n",
              "  }\n",
              "\n",
              "  .colab-df-quickchart-complete:disabled,\n",
              "  .colab-df-quickchart-complete:disabled:hover {\n",
              "    background-color: var(--disabled-bg-color);\n",
              "    fill: var(--disabled-fill-color);\n",
              "    box-shadow: none;\n",
              "  }\n",
              "\n",
              "  .colab-df-spinner {\n",
              "    border: 2px solid var(--fill-color);\n",
              "    border-color: transparent;\n",
              "    border-bottom-color: var(--fill-color);\n",
              "    animation:\n",
              "      spin 1s steps(1) infinite;\n",
              "  }\n",
              "\n",
              "  @keyframes spin {\n",
              "    0% {\n",
              "      border-color: transparent;\n",
              "      border-bottom-color: var(--fill-color);\n",
              "      border-left-color: var(--fill-color);\n",
              "    }\n",
              "    20% {\n",
              "      border-color: transparent;\n",
              "      border-left-color: var(--fill-color);\n",
              "      border-top-color: var(--fill-color);\n",
              "    }\n",
              "    30% {\n",
              "      border-color: transparent;\n",
              "      border-left-color: var(--fill-color);\n",
              "      border-top-color: var(--fill-color);\n",
              "      border-right-color: var(--fill-color);\n",
              "    }\n",
              "    40% {\n",
              "      border-color: transparent;\n",
              "      border-right-color: var(--fill-color);\n",
              "      border-top-color: var(--fill-color);\n",
              "    }\n",
              "    60% {\n",
              "      border-color: transparent;\n",
              "      border-right-color: var(--fill-color);\n",
              "    }\n",
              "    80% {\n",
              "      border-color: transparent;\n",
              "      border-right-color: var(--fill-color);\n",
              "      border-bottom-color: var(--fill-color);\n",
              "    }\n",
              "    90% {\n",
              "      border-color: transparent;\n",
              "      border-bottom-color: var(--fill-color);\n",
              "    }\n",
              "  }\n",
              "</style>\n",
              "\n",
              "  <script>\n",
              "    async function quickchart(key) {\n",
              "      const quickchartButtonEl =\n",
              "        document.querySelector('#' + key + ' button');\n",
              "      quickchartButtonEl.disabled = true;  // To prevent multiple clicks.\n",
              "      quickchartButtonEl.classList.add('colab-df-spinner');\n",
              "      try {\n",
              "        const charts = await google.colab.kernel.invokeFunction(\n",
              "            'suggestCharts', [key], {});\n",
              "      } catch (error) {\n",
              "        console.error('Error during call to suggestCharts:', error);\n",
              "      }\n",
              "      quickchartButtonEl.classList.remove('colab-df-spinner');\n",
              "      quickchartButtonEl.classList.add('colab-df-quickchart-complete');\n",
              "    }\n",
              "    (() => {\n",
              "      let quickchartButtonEl =\n",
              "        document.querySelector('#df-cd712105-e640-4231-b672-5e6a1f4b3567 button');\n",
              "      quickchartButtonEl.style.display =\n",
              "        google.colab.kernel.accessAllowed ? 'block' : 'none';\n",
              "    })();\n",
              "  </script>\n",
              "</div>\n",
              "\n",
              "    </div>\n",
              "  </div>\n"
            ],
            "text/plain": [
              "              sno  duration_month         poi  resident_since         age  \\\n",
              "count  200.000000      200.000000  195.000000      200.000000  198.000000   \n",
              "mean   100.500000       21.910000    2.974359        2.860000   36.106061   \n",
              "std     57.879185       11.635671    1.081408        1.093792   11.053808   \n",
              "min      1.000000        4.000000    1.000000        1.000000   20.000000   \n",
              "25%     50.750000       12.000000    2.000000        2.000000   28.000000   \n",
              "50%    100.500000       20.000000    3.000000        3.000000   33.000000   \n",
              "75%    150.250000       27.250000    4.000000        4.000000   43.000000   \n",
              "max    200.000000       60.000000    4.000000        4.000000   68.000000   \n",
              "\n",
              "       credits_no     liables  \n",
              "count  200.000000  200.000000  \n",
              "mean     1.450000    1.185000  \n",
              "std      0.607739    0.389272  \n",
              "min      1.000000    1.000000  \n",
              "25%      1.000000    1.000000  \n",
              "50%      1.000000    1.000000  \n",
              "75%      2.000000    1.000000  \n",
              "max      4.000000    2.000000  "
            ]
          },
          "execution_count": 7,
          "metadata": {},
          "output_type": "execute_result"
        }
      ],
      "source": [
        "test_df = pd.read_csv('/content/C&T test dataset.csv')\n",
        "test_df.describe()"
      ]
    },
    {
      "cell_type": "code",
      "execution_count": null,
      "metadata": {
        "colab": {
          "base_uri": "https://localhost:8080/"
        },
        "id": "F20_Pe7XfAZo",
        "outputId": "15634be4-4a6a-41e3-d48d-e1c7046d06df"
      },
      "outputs": [
        {
          "name": "stdout",
          "output_type": "stream",
          "text": [
            "<class 'pandas.core.frame.DataFrame'>\n",
            "RangeIndex: 200 entries, 0 to 199\n",
            "Data columns (total 20 columns):\n",
            " #   Column            Non-Null Count  Dtype  \n",
            "---  ------            --------------  -----  \n",
            " 0   sno               200 non-null    int64  \n",
            " 1   acc_info          200 non-null    object \n",
            " 2   duration_month    200 non-null    int64  \n",
            " 3   credit_history    200 non-null    object \n",
            " 4   purpose           200 non-null    object \n",
            " 5   savings_acc       200 non-null    object \n",
            " 6   employment_st     195 non-null    object \n",
            " 7   poi               195 non-null    float64\n",
            " 8   personal_status   200 non-null    object \n",
            " 9   gurantors         200 non-null    object \n",
            " 10  resident_since    200 non-null    int64  \n",
            " 11  property_type     200 non-null    object \n",
            " 12  age               198 non-null    float64\n",
            " 13  installment_type  200 non-null    object \n",
            " 14  housing_type      192 non-null    object \n",
            " 15  credits_no        200 non-null    int64  \n",
            " 16  job_type          200 non-null    object \n",
            " 17  liables           200 non-null    int64  \n",
            " 18  telephone         200 non-null    object \n",
            " 19  foreigner         200 non-null    object \n",
            "dtypes: float64(2), int64(5), object(13)\n",
            "memory usage: 31.4+ KB\n"
          ]
        }
      ],
      "source": [
        "test_df.info()"
      ]
    },
    {
      "cell_type": "markdown",
      "source": [
        "CHECKING MISSING VALUES"
      ],
      "metadata": {
        "id": "Hv7GIKx71p9h"
      }
    },
    {
      "cell_type": "code",
      "execution_count": null,
      "metadata": {
        "colab": {
          "base_uri": "https://localhost:8080/"
        },
        "id": "Ex43CdtEfE8p",
        "outputId": "4cff9205-0635-457d-9925-749017167b0e"
      },
      "outputs": [
        {
          "name": "stdout",
          "output_type": "stream",
          "text": [
            "sno                 0\n",
            "acc_info            0\n",
            "duration_month      0\n",
            "credit_history      0\n",
            "purpose             0\n",
            "savings_acc         0\n",
            "employment_st       5\n",
            "poi                 5\n",
            "personal_status     0\n",
            "gurantors           0\n",
            "resident_since      0\n",
            "property_type       0\n",
            "age                 2\n",
            "installment_type    0\n",
            "housing_type        8\n",
            "credits_no          0\n",
            "job_type            0\n",
            "liables             0\n",
            "telephone           0\n",
            "foreigner           0\n",
            "dtype: int64\n"
          ]
        }
      ],
      "source": [
        "# Check for null values in the test dataset\n",
        "null_values = test_df.isnull().sum()\n",
        "print(null_values)\n"
      ]
    },
    {
      "cell_type": "markdown",
      "source": [
        "HANDLING MISSING VALUES BY IMPUTATION"
      ],
      "metadata": {
        "id": "WGCEUpy410wK"
      }
    },
    {
      "cell_type": "code",
      "execution_count": null,
      "metadata": {
        "colab": {
          "base_uri": "https://localhost:8080/"
        },
        "id": "OwqV87HYfNY7",
        "outputId": "cda1a744-8f36-4c9d-f301-948a407a6537"
      },
      "outputs": [
        {
          "name": "stdout",
          "output_type": "stream",
          "text": [
            "sno                 0\n",
            "acc_info            0\n",
            "duration_month      0\n",
            "credit_history      0\n",
            "purpose             0\n",
            "savings_acc         0\n",
            "employment_st       0\n",
            "poi                 0\n",
            "personal_status     0\n",
            "gurantors           0\n",
            "resident_since      0\n",
            "property_type       0\n",
            "age                 0\n",
            "installment_type    0\n",
            "housing_type        0\n",
            "credits_no          0\n",
            "job_type            0\n",
            "liables             0\n",
            "telephone           0\n",
            "foreigner           0\n",
            "dtype: int64\n"
          ]
        }
      ],
      "source": [
        "from sklearn.impute import SimpleImputer\n",
        "\n",
        "# Initialize SimpleImputer with strategy='mean' for numerical columns and strategy='most_frequent' for categorical columns\n",
        "imputer_numeric = SimpleImputer(strategy='mean')\n",
        "imputer_categorical = SimpleImputer(strategy='most_frequent')\n",
        "\n",
        "# List of numerical and categorical columns with missing values\n",
        "numerical_columns_with_missing = ['poi', 'age']\n",
        "categorical_columns_with_missing = ['employment_st', 'housing_type']\n",
        "\n",
        "# Impute missing values in numerical columns\n",
        "test_df[numerical_columns_with_missing] = imputer_numeric.fit_transform(test_df[numerical_columns_with_missing])\n",
        "\n",
        "# Impute missing values in categorical columns\n",
        "test_df[categorical_columns_with_missing] = imputer_categorical.fit_transform(test_df[categorical_columns_with_missing])\n",
        "\n",
        "# Check if there are any remaining missing values\n",
        "null_values_after_imputation = test_df.isnull().sum()\n",
        "print(null_values_after_imputation)\n"
      ]
    },
    {
      "cell_type": "markdown",
      "source": [
        "ENCODING AND SCALING VARIABLES"
      ],
      "metadata": {
        "id": "5vdRZzR515TB"
      }
    },
    {
      "cell_type": "code",
      "execution_count": null,
      "metadata": {
        "colab": {
          "base_uri": "https://localhost:8080/"
        },
        "id": "FJbmzCUTf9Pf",
        "outputId": "afa4a275-cd7f-4131-babe-a636b8758641"
      },
      "outputs": [
        {
          "name": "stdout",
          "output_type": "stream",
          "text": [
            "        sno  duration_month       poi  resident_since       age  credits_no  \\\n",
            "0 -1.729887        0.275646  0.936324        1.047561  1.621873    1.060295   \n",
            "1 -1.725557       -0.218232  0.044156        1.047561  1.098455    1.060295   \n",
            "2 -1.721227       -0.053606 -1.740181        1.047561 -0.995218    1.060295   \n",
            "3 -1.716897       -0.712110  0.936324        1.047561 -0.035618    1.060295   \n",
            "4 -1.712567       -0.712110 -1.740181       -0.760527 -0.995218   -0.695887   \n",
            "\n",
            "    liables  acc_info_A11  acc_info_A12  acc_info_A13  ...  housing_type_A152  \\\n",
            "0  2.404093         False         False         False  ...              False   \n",
            "1 -0.415957         False          True         False  ...              False   \n",
            "2 -0.415957          True         False         False  ...               True   \n",
            "3 -0.415957         False         False         False  ...               True   \n",
            "4 -0.415957         False          True         False  ...              False   \n",
            "\n",
            "   housing_type_A153  job_type_A171  job_type_A172  job_type_A173  \\\n",
            "0               True          False          False           True   \n",
            "1              False          False           True          False   \n",
            "2              False          False          False           True   \n",
            "3              False          False          False           True   \n",
            "4              False           True          False          False   \n",
            "\n",
            "   job_type_A174  telephone_A191  telephone_A192  foreigner_A201  \\\n",
            "0          False            True           False            True   \n",
            "1          False           False            True            True   \n",
            "2          False            True           False            True   \n",
            "3          False            True           False            True   \n",
            "4          False            True           False            True   \n",
            "\n",
            "   foreigner_A202  \n",
            "0           False  \n",
            "1           False  \n",
            "2           False  \n",
            "3           False  \n",
            "4           False  \n",
            "\n",
            "[5 rows x 61 columns]\n"
          ]
        }
      ],
      "source": [
        "from sklearn.preprocessing import StandardScaler\n",
        "\n",
        "# Encode categorical variables using one-hot encoding\n",
        "test_data_encoded = pd.get_dummies(test_df, columns=['acc_info', 'credit_history', 'purpose', 'savings_acc', 'employment_st', 'personal_status', 'gurantors', 'property_type', 'installment_type', 'housing_type', 'job_type', 'telephone', 'foreigner'])\n",
        "\n",
        "# Scale numerical variables using the same scaler fitted on the training data\n",
        "test_data_encoded[numerical_columns] = scaler.transform(test_data_encoded[numerical_columns])\n",
        "\n",
        "# Check the transformed test dataset\n",
        "print(test_data_encoded.head())\n"
      ]
    },
    {
      "cell_type": "markdown",
      "source": [
        "DATA VISUALISATION:DESCRIPTIVE ANALYSIS"
      ],
      "metadata": {
        "id": "LUgCzck63FCa"
      }
    },
    {
      "cell_type": "code",
      "execution_count": null,
      "metadata": {
        "colab": {
          "base_uri": "https://localhost:8080/",
          "height": 927
        },
        "id": "ZTopwfJOfziL",
        "outputId": "12e335a1-9844-426e-a57a-ad2a4e4170bd"
      },
      "outputs": [
        {
          "data": {
            "image/png": "[encoded data removed]",
            "text/plain": [
              "<Figure size 640x480 with 1 Axes>"
            ]
          },
          "metadata": {},
          "output_type": "display_data"
        },
        {
          "data": {
            "image/png": "[encoded data removed]",
            "text/plain": [
              "<Figure size 640x480 with 1 Axes>"
            ]
          },
          "metadata": {},
          "output_type": "display_data"
        }
      ],
      "source": [
        "import seaborn as sns\n",
        "import matplotlib.pyplot as plt\n",
        "\n",
        "# Visualize distribution of numerical variables in training data\n",
        "sns.histplot(data=data, x='credits_no', kde=True)\n",
        "plt.title('Distribution of Number of Credits (Training Data)')\n",
        "plt.show()\n",
        "\n",
        "\n",
        "# Similar visualizations for testing data\n",
        "# Visualize distribution of numerical variables in testing data\n",
        "sns.histplot(data=test_df, x='credits_no', kde=True)\n",
        "plt.title('Distribution of Number of Credits (Testing Data)')\n",
        "plt.show()\n",
        "\n"
      ]
    },
    {
      "cell_type": "markdown",
      "metadata": {
        "id": "n9KEGFdMkRBs"
      },
      "source": [
        " Training data includes a diverse range of creditworthiness (A30-A34).\n",
        "\n",
        "• Most people in the data have a lower number of credits (new credit users?).\n",
        "\n",
        "• Both datasets show a varied customer base with differing credit behaviors.\n",
        "\n",
        "• Analyzing both datasets helps build a better creditworthiness model.\n",
        "\n",
        "• Insights can improve model development for accurate risk prediction.\n",
        "\n",
        "• This leads to better credit decisions for the bank."
      ]
    },
    {
      "cell_type": "code",
      "execution_count": null,
      "metadata": {
        "colab": {
          "base_uri": "https://localhost:8080/",
          "height": 957
        },
        "id": "_NPmSR2BjUqS",
        "outputId": "d3c10f04-4d7f-4b0f-8167-202c63aabbb8"
      },
      "outputs": [
        {
          "data": {
            "image/png": "[encoded data removed]",
            "text/plain": [
              "<Figure size 640x480 with 1 Axes>"
            ]
          },
          "metadata": {},
          "output_type": "display_data"
        },
        {
          "data": {
            "image/png": "[encoded data removed]",
            "text/plain": [
              "<Figure size 640x480 with 1 Axes>"
            ]
          },
          "metadata": {},
          "output_type": "display_data"
        }
      ],
      "source": [
        "# Visualize distribution of a categorical variable in training data\n",
        "sns.countplot(data=data, x='credit_history')\n",
        "plt.title('Distribution of Credit History (Training Data)')\n",
        "plt.xticks(rotation=45)\n",
        "plt.show()\n",
        "\n",
        "\n",
        "# Visualize distribution of a categorical variable in testing data\n",
        "sns.countplot(data=test_df, x='credit_history')\n",
        "plt.title('Distribution of Credit History (Testing Data)')\n",
        "plt.xticks(rotation=45)\n",
        "plt.show()\n"
      ]
    },
    {
      "cell_type": "markdown",
      "metadata": {
        "id": "HuX4noLghHNk"
      },
      "source": [
        "• Credit history plays a significant role in loan approval for this bank.\n",
        "\n",
        "• People with lower credit scores (A30 and A31) are more likely to be rejected.\n",
        "\n",
        "• The bank approves loans across a range of creditworthiness levels, with a higher approval rate for those with better credit history.\n",
        "\n",
        "Both count plots convey the importance of credit history in loan approval decisions, highlighting that individuals with lower credit scores are more likely to face loan rejections. Despite potential variations in visualization techniques, the core message remains consistent across both plots."
      ]
    },
    {
      "cell_type": "code",
      "execution_count": null,
      "metadata": {
        "colab": {
          "base_uri": "https://localhost:8080/",
          "height": 957
        },
        "id": "wIaQjDTXizCd",
        "outputId": "6d0d7e36-c4f2-41ff-fbcf-d03a51630bc0"
      },
      "outputs": [
        {
          "data": {
            "image/png": "[encoded data removed]",
            "text/plain": [
              "<Figure size 640x480 with 1 Axes>"
            ]
          },
          "metadata": {},
          "output_type": "display_data"
        },
        {
          "data": {
            "image/png": "[encoded data removed]",
            "text/plain": [
              "<Figure size 640x480 with 1 Axes>"
            ]
          },
          "metadata": {},
          "output_type": "display_data"
        }
      ],
      "source": [
        "# Visualize relationship between a numerical and categorical variable in training data\n",
        "sns.violinplot(data=data, x='credit_history', y='poi')\n",
        "plt.title('Distribution of Percentage of Income Spent on Loan Interest by Credit History (Training Data)')\n",
        "plt.xticks(rotation=45)\n",
        "plt.show()\n",
        "\n",
        "\n",
        "# Visualize relationship between a numerical and categorical variable in testing data\n",
        "sns.violinplot(data=test_df, x='credit_history', y='poi')\n",
        "plt.title('Distribution of Percentage of Income Spent on Loan Interest by Credit History (Testing Data)')\n",
        "plt.xticks(rotation=45)\n",
        "plt.show()\n"
      ]
    },
    {
      "cell_type": "markdown",
      "metadata": {
        "id": "vw_GLHdKis9l"
      },
      "source": [
        "Both plots show the same trends:\n",
        "\n",
        "The violin for the lower credit history group (likely to the left on the x-axis) is wider at higher percentages of income spent on loan interest.\n",
        "\n",
        "The center line (median) for the lower credit history group is also higher than the median for the higher credit history group.\n",
        "\n",
        "The IQR appears to be larger for the lower credit history group.\n",
        "\n",
        "In conclusion, both violin plots suggest that people with lower credit history tend to spend a higher percentage of their income on loan interest compared to those with higher credit history.\n",
        "\n"
      ]
    },
    {
      "cell_type": "markdown",
      "metadata": {
        "id": "xJ3KIIU7kV_K"
      },
      "source": [
        "# STEP2:MODEL GENERATION"
      ]
    },
    {
      "cell_type": "markdown",
      "metadata": {
        "id": "B3LBIQ7YmPn_"
      },
      "source": [
        "# MODEL1:USING SVM"
      ]
    },
    {
      "cell_type": "code",
      "execution_count": null,
      "metadata": {
        "id": "BmkI5UG6k1p1"
      },
      "outputs": [],
      "source": [
        "from sklearn.feature_selection import SelectKBest, f_classif\n",
        "from sklearn.preprocessing import OneHotEncoder\n",
        "from sklearn.compose import ColumnTransformer\n",
        "from sklearn.svm import SVC\n",
        "\n",
        "# Define features (X) and target variable (y) for training data\n",
        "X_train = data[['credit_history', 'credits_no', 'poi', 'duration_month']]\n",
        "y_train = data['Group_no']  # Assuming 'Group_no' is the target variable in the training data\n",
        "\n",
        "# Define features (X) for testing data\n",
        "X_test = test_df[['credit_history', 'credits_no', 'poi', 'duration_month']]\n",
        "\n",
        "# Define transformer for one-hot encoding of categorical variables\n",
        "categorical_features = ['credit_history']\n",
        "preprocessor = ColumnTransformer(transformers=[('cat', OneHotEncoder(), categorical_features)], remainder='passthrough')\n",
        "\n",
        "# Perform one-hot encoding and feature selection using SelectKBest with ANOVA F-value\n",
        "selector = SelectKBest(score_func=f_classif, k=2)  # Adjust k as needed\n",
        "X_train_selected = selector.fit_transform(preprocessor.fit_transform(X_train), y_train)\n",
        "X_test_selected = selector.transform(preprocessor.transform(X_test))  # Transform testing data with selected features\n",
        "\n",
        "# Train SVM model using selected features\n",
        "svm_model = SVC()\n",
        "svm_model.fit(X_train_selected, y_train)\n",
        "\n",
        "# Predict 'Group_no' for testing data using trained model\n",
        "predicted_group_no = svm_model.predict(X_test_selected)\n"
      ]
    },
    {
      "cell_type": "code",
      "execution_count": null,
      "metadata": {
        "colab": {
          "base_uri": "https://localhost:8080/"
        },
        "id": "oMeivOyzliJE",
        "outputId": "68d05ed2-f645-4449-9d69-2e3d90cd17e7"
      },
      "outputs": [
        {
          "name": "stdout",
          "output_type": "stream",
          "text": [
            "Predicted Group Numbers for Testing Data:\n",
            "[2 2 2 3 2 1 3 3 1 2 3 3 1 1 1 1 3 3 1 2 3 3 1 3 2 2 2 2 1 1 2 2 1 2 2 3 3\n",
            " 3 2 2 1 2 2 2 2 2 2 2 3 3 2 2 3 2 1 2 3 3 2 2 2 2 2 2 3 2 2 2 1 3 1 3 2 3\n",
            " 2 3 2 1 3 2 2 2 2 2 2 3 2 1 1 2 2 3 3 1 2 1 2 3 2 2 2 2 1 3 2 2 2 1 2 2 1\n",
            " 2 2 2 2 1 2 3 2 2 2 1 3 3 2 3 2 1 2 3 2 3 3 3 3 2 3 3 1 2 2 3 2 3 3 1 2 3\n",
            " 2 2 2 1 2 1 3 2 2 3 2 2 3 2 2 2 3 2 2 2 1 2 3 2 2 1 2 2 3 2 2 2 2 1 2 1 2\n",
            " 3 1 2 2 2 2 3 2 1 3 3 2 3 1 1]\n"
          ]
        }
      ],
      "source": [
        "# Predict 'Group_no' for testing data using trained model\n",
        "predicted_group_no = svm_model.predict(X_test_selected)\n",
        "\n",
        "# Print the predictions\n",
        "print(\"Predicted Group Numbers for Testing Data:\")\n",
        "print(predicted_group_no)\n"
      ]
    },
    {
      "cell_type": "markdown",
      "metadata": {
        "id": "ymTPOVBimDLc"
      },
      "source": [
        "The cross-validation accuracy scores provide insight into the performance of your SVM model across different folds of the training dataset. Here's a breakdown of the results:\n",
        "\n",
        "Cross-Validation Accuracy Scores:\n",
        "Fold 1: 61.25%\n",
        "\n",
        "Fold 2: 60.625%\n",
        "\n",
        "Fold 3: 56.875%\n",
        "\n",
        "Fold 4: 65.625%\n",
        "\n",
        "Fold 5: 58.75%\n",
        "\n",
        "Mean Accuracy: 60.625%\n",
        "\n",
        "The mean accuracy of approximately 60.625% indicates the average accuracy of the model across all folds of the cross-validation process."
      ]
    },
    {
      "cell_type": "code",
      "execution_count": null,
      "metadata": {
        "colab": {
          "base_uri": "https://localhost:8080/"
        },
        "id": "r3N_FatzmDj-",
        "outputId": "de597c34-3979-481d-a2cc-c304b27e24f7"
      },
      "outputs": [
        {
          "name": "stdout",
          "output_type": "stream",
          "text": [
            "Cross-Validation Accuracy Scores: [0.6125  0.60625 0.56875 0.65625 0.5875 ]\n",
            "Mean Accuracy: 0.60625\n"
          ]
        }
      ],
      "source": [
        "from sklearn.model_selection import cross_val_score\n",
        "\n",
        "\n",
        "# Train SVM model using selected features\n",
        "svm_model = SVC()\n",
        "svm_model.fit(X_train_selected, y_train)\n",
        "\n",
        "# Perform cross-validation to evaluate model accuracy\n",
        "# 'scoring' parameter can be set to different metrics such as accuracy, precision, recall, etc.\n",
        "# 'cv' parameter specifies the number of folds for cross-validation\n",
        "accuracy_scores = cross_val_score(svm_model, X_train_selected, y_train, cv=5, scoring='accuracy')\n",
        "\n",
        "print(\"Cross-Validation Accuracy Scores:\", accuracy_scores)\n",
        "print(\"Mean Accuracy:\", accuracy_scores.mean())\n"
      ]
    },
    {
      "cell_type": "markdown",
      "metadata": {
        "id": "8ZULQnUlmMsr"
      },
      "source": [
        "The mean accuracy of approximately 60.625% indicates the average accuracy of the model across all folds of the cross-validation process."
      ]
    },
    {
      "cell_type": "markdown",
      "metadata": {
        "id": "cyRJJZ6kmUP2"
      },
      "source": [
        "# MODEL2:USING ANN"
      ]
    },
    {
      "cell_type": "code",
      "execution_count": null,
      "metadata": {
        "colab": {
          "base_uri": "https://localhost:8080/"
        },
        "id": "1W9zuxuOm-VK",
        "outputId": "a185b684-ba1c-43e7-d1a3-7f69f9effc14"
      },
      "outputs": [
        {
          "name": "stdout",
          "output_type": "stream",
          "text": [
            "Epoch 1/50\n",
            "20/20 [==============================] - 2s 40ms/step - loss: 1.0394 - accuracy: 0.4734 - val_loss: 0.9931 - val_accuracy: 0.6187\n",
            "Epoch 2/50\n",
            "20/20 [==============================] - 0s 13ms/step - loss: 0.9512 - accuracy: 0.6094 - val_loss: 0.9254 - val_accuracy: 0.6062\n",
            "Epoch 3/50\n",
            "20/20 [==============================] - 0s 16ms/step - loss: 0.8818 - accuracy: 0.6062 - val_loss: 0.8717 - val_accuracy: 0.6187\n",
            "Epoch 4/50\n",
            "20/20 [==============================] - 0s 12ms/step - loss: 0.8283 - accuracy: 0.6125 - val_loss: 0.8336 - val_accuracy: 0.6187\n",
            "Epoch 5/50\n",
            "20/20 [==============================] - 0s 8ms/step - loss: 0.7999 - accuracy: 0.6187 - val_loss: 0.8209 - val_accuracy: 0.6187\n",
            "Epoch 6/50\n",
            "20/20 [==============================] - 0s 8ms/step - loss: 0.7811 - accuracy: 0.6187 - val_loss: 0.8094 - val_accuracy: 0.6187\n",
            "Epoch 7/50\n",
            "20/20 [==============================] - 0s 16ms/step - loss: 0.7752 - accuracy: 0.6250 - val_loss: 0.8064 - val_accuracy: 0.6187\n",
            "Epoch 8/50\n",
            "20/20 [==============================] - 0s 17ms/step - loss: 0.7702 - accuracy: 0.6172 - val_loss: 0.8077 - val_accuracy: 0.6187\n",
            "Epoch 9/50\n",
            "20/20 [==============================] - 0s 12ms/step - loss: 0.7675 - accuracy: 0.6203 - val_loss: 0.8000 - val_accuracy: 0.6375\n",
            "Epoch 10/50\n",
            "20/20 [==============================] - 0s 11ms/step - loss: 0.7671 - accuracy: 0.6219 - val_loss: 0.8043 - val_accuracy: 0.6375\n",
            "Epoch 11/50\n",
            "20/20 [==============================] - 0s 10ms/step - loss: 0.7648 - accuracy: 0.6234 - val_loss: 0.8019 - val_accuracy: 0.6375\n",
            "Epoch 12/50\n",
            "20/20 [==============================] - 0s 8ms/step - loss: 0.7635 - accuracy: 0.6203 - val_loss: 0.7949 - val_accuracy: 0.6375\n",
            "Epoch 13/50\n",
            "20/20 [==============================] - 0s 8ms/step - loss: 0.7621 - accuracy: 0.6156 - val_loss: 0.8013 - val_accuracy: 0.6187\n",
            "Epoch 14/50\n",
            "20/20 [==============================] - 0s 14ms/step - loss: 0.7599 - accuracy: 0.6234 - val_loss: 0.7951 - val_accuracy: 0.6562\n",
            "Epoch 15/50\n",
            "20/20 [==============================] - 1s 33ms/step - loss: 0.7602 - accuracy: 0.6156 - val_loss: 0.7918 - val_accuracy: 0.6562\n",
            "Epoch 16/50\n",
            "20/20 [==============================] - 0s 21ms/step - loss: 0.7600 - accuracy: 0.6297 - val_loss: 0.7965 - val_accuracy: 0.6562\n",
            "Epoch 17/50\n",
            "20/20 [==============================] - 0s 12ms/step - loss: 0.7567 - accuracy: 0.6328 - val_loss: 0.7965 - val_accuracy: 0.6375\n",
            "Epoch 18/50\n",
            "20/20 [==============================] - 0s 5ms/step - loss: 0.7576 - accuracy: 0.6266 - val_loss: 0.7937 - val_accuracy: 0.6375\n",
            "Epoch 19/50\n",
            "20/20 [==============================] - 0s 6ms/step - loss: 0.7598 - accuracy: 0.6141 - val_loss: 0.7945 - val_accuracy: 0.6187\n",
            "Epoch 20/50\n",
            "20/20 [==============================] - 0s 5ms/step - loss: 0.7617 - accuracy: 0.6250 - val_loss: 0.7942 - val_accuracy: 0.6562\n",
            "Epoch 21/50\n",
            "20/20 [==============================] - 0s 5ms/step - loss: 0.7566 - accuracy: 0.6219 - val_loss: 0.7948 - val_accuracy: 0.6187\n",
            "Epoch 22/50\n",
            "20/20 [==============================] - 0s 6ms/step - loss: 0.7543 - accuracy: 0.6203 - val_loss: 0.7898 - val_accuracy: 0.6562\n",
            "Epoch 23/50\n",
            "20/20 [==============================] - 0s 6ms/step - loss: 0.7542 - accuracy: 0.6266 - val_loss: 0.7942 - val_accuracy: 0.6562\n",
            "Epoch 24/50\n",
            "20/20 [==============================] - 0s 6ms/step - loss: 0.7538 - accuracy: 0.6203 - val_loss: 0.7878 - val_accuracy: 0.6375\n",
            "Epoch 25/50\n",
            "20/20 [==============================] - 0s 6ms/step - loss: 0.7537 - accuracy: 0.6297 - val_loss: 0.7917 - val_accuracy: 0.6500\n",
            "Epoch 26/50\n",
            "20/20 [==============================] - 0s 8ms/step - loss: 0.7552 - accuracy: 0.6172 - val_loss: 0.7922 - val_accuracy: 0.6375\n",
            "Epoch 27/50\n",
            "20/20 [==============================] - 0s 7ms/step - loss: 0.7521 - accuracy: 0.6328 - val_loss: 0.7881 - val_accuracy: 0.6500\n",
            "Epoch 28/50\n",
            "20/20 [==============================] - 0s 6ms/step - loss: 0.7533 - accuracy: 0.6219 - val_loss: 0.7899 - val_accuracy: 0.6562\n",
            "Epoch 29/50\n",
            "20/20 [==============================] - 0s 6ms/step - loss: 0.7514 - accuracy: 0.6344 - val_loss: 0.7905 - val_accuracy: 0.6562\n",
            "Epoch 30/50\n",
            "20/20 [==============================] - 0s 5ms/step - loss: 0.7521 - accuracy: 0.6250 - val_loss: 0.7874 - val_accuracy: 0.6562\n",
            "Epoch 31/50\n",
            "20/20 [==============================] - 0s 4ms/step - loss: 0.7511 - accuracy: 0.6234 - val_loss: 0.7928 - val_accuracy: 0.6500\n",
            "Epoch 32/50\n",
            "20/20 [==============================] - 0s 5ms/step - loss: 0.7522 - accuracy: 0.6250 - val_loss: 0.7849 - val_accuracy: 0.6562\n",
            "Epoch 33/50\n",
            "20/20 [==============================] - 0s 5ms/step - loss: 0.7514 - accuracy: 0.6219 - val_loss: 0.7879 - val_accuracy: 0.6375\n",
            "Epoch 34/50\n",
            "20/20 [==============================] - 0s 4ms/step - loss: 0.7537 - accuracy: 0.6125 - val_loss: 0.7908 - val_accuracy: 0.6562\n",
            "Epoch 35/50\n",
            "20/20 [==============================] - 0s 4ms/step - loss: 0.7532 - accuracy: 0.6156 - val_loss: 0.7878 - val_accuracy: 0.6438\n",
            "Epoch 36/50\n",
            "20/20 [==============================] - 0s 4ms/step - loss: 0.7530 - accuracy: 0.6328 - val_loss: 0.7890 - val_accuracy: 0.6500\n",
            "Epoch 37/50\n",
            "20/20 [==============================] - 0s 3ms/step - loss: 0.7497 - accuracy: 0.6297 - val_loss: 0.7864 - val_accuracy: 0.6375\n",
            "Epoch 38/50\n",
            "20/20 [==============================] - 0s 4ms/step - loss: 0.7500 - accuracy: 0.6313 - val_loss: 0.7880 - val_accuracy: 0.6562\n",
            "Epoch 39/50\n",
            "20/20 [==============================] - 0s 4ms/step - loss: 0.7494 - accuracy: 0.6141 - val_loss: 0.7892 - val_accuracy: 0.6500\n",
            "Epoch 40/50\n",
            "20/20 [==============================] - 0s 4ms/step - loss: 0.7488 - accuracy: 0.6359 - val_loss: 0.7864 - val_accuracy: 0.6562\n",
            "Epoch 41/50\n",
            "20/20 [==============================] - 0s 3ms/step - loss: 0.7491 - accuracy: 0.6281 - val_loss: 0.7879 - val_accuracy: 0.6562\n",
            "Epoch 42/50\n",
            "20/20 [==============================] - 0s 3ms/step - loss: 0.7484 - accuracy: 0.6375 - val_loss: 0.7908 - val_accuracy: 0.6375\n",
            "Epoch 43/50\n",
            "20/20 [==============================] - 0s 3ms/step - loss: 0.7494 - accuracy: 0.6297 - val_loss: 0.7882 - val_accuracy: 0.6562\n",
            "Epoch 44/50\n",
            "20/20 [==============================] - 0s 4ms/step - loss: 0.7485 - accuracy: 0.6266 - val_loss: 0.7941 - val_accuracy: 0.6313\n",
            "Epoch 45/50\n",
            "20/20 [==============================] - 0s 5ms/step - loss: 0.7478 - accuracy: 0.6234 - val_loss: 0.7876 - val_accuracy: 0.6562\n",
            "Epoch 46/50\n",
            "20/20 [==============================] - 0s 4ms/step - loss: 0.7476 - accuracy: 0.6359 - val_loss: 0.7862 - val_accuracy: 0.6375\n",
            "Epoch 47/50\n",
            "20/20 [==============================] - 0s 4ms/step - loss: 0.7474 - accuracy: 0.6359 - val_loss: 0.7897 - val_accuracy: 0.6562\n",
            "Epoch 48/50\n",
            "20/20 [==============================] - 0s 4ms/step - loss: 0.7468 - accuracy: 0.6313 - val_loss: 0.7911 - val_accuracy: 0.6313\n",
            "Epoch 49/50\n",
            "20/20 [==============================] - 0s 4ms/step - loss: 0.7481 - accuracy: 0.6250 - val_loss: 0.7902 - val_accuracy: 0.6375\n",
            "Epoch 50/50\n",
            "20/20 [==============================] - 0s 3ms/step - loss: 0.7461 - accuracy: 0.6313 - val_loss: 0.7919 - val_accuracy: 0.6250\n",
            "5/5 [==============================] - 0s 3ms/step - loss: 0.7919 - accuracy: 0.6250\n",
            "Validation Accuracy: 0.625\n"
          ]
        }
      ],
      "source": [
        "# Adjust labels to start from 0\n",
        "y_train_adjusted = y_train - 1  # Subtract 1 from each label to shift them to start from 0\n",
        "y_val_adjusted = y_val - 1\n",
        "\n",
        "# Define the ANN model\n",
        "model = Sequential()\n",
        "model.add(Dense(64, activation='relu', input_shape=(X_train_scaled.shape[1],)))\n",
        "model.add(Dense(32, activation='relu'))\n",
        "model.add(Dense(3, activation='softmax'))  # Assuming 3 output classes\n",
        "\n",
        "# Compile the model\n",
        "model.compile(optimizer='adam', loss='sparse_categorical_crossentropy', metrics=['accuracy'])\n",
        "\n",
        "# Train the model\n",
        "history = model.fit(X_train_scaled, y_train_adjusted, epochs=50, batch_size=32, validation_data=(X_val_scaled, y_val_adjusted))\n",
        "\n",
        "# Evaluate the model on the validation set\n",
        "val_loss, val_accuracy = model.evaluate(X_val_scaled, y_val_adjusted)\n",
        "print(\"Validation Accuracy:\", val_accuracy)\n"
      ]
    },
    {
      "cell_type": "markdown",
      "metadata": {
        "id": "tLwTTk_dnPx9"
      },
      "source": [
        "The accuracy of the artificial neural network (ANN) model on the validation set is approximately 62.5%. This means that the model correctly predicts the group number for about 62.5% of the instances in the validation set."
      ]
    },
    {
      "cell_type": "markdown",
      "metadata": {
        "id": "mFOnUgqZoKys"
      },
      "source": [
        "# MODEL3:USING XGBOOST -ENSEMBLE METHODS"
      ]
    },
    {
      "cell_type": "markdown",
      "source": [
        "XGBoost (Extreme Gradient Boosting) is indeed a powerful ensemble method, especially for classification tasks. It is known for its scalability, efficiency, and excellent performance across a wide range of datasets."
      ],
      "metadata": {
        "id": "0uW0BkHR1QpO"
      }
    },
    {
      "cell_type": "code",
      "execution_count": null,
      "metadata": {
        "colab": {
          "base_uri": "https://localhost:8080/"
        },
        "id": "GqXzs569nQj7",
        "outputId": "6c6f8565-8166-4de4-b178-a6678d3661a8"
      },
      "outputs": [
        {
          "name": "stdout",
          "output_type": "stream",
          "text": [
            "Accuracy: 0.575\n"
          ]
        }
      ],
      "source": [
        "import pandas as pd\n",
        "from sklearn.model_selection import train_test_split\n",
        "from sklearn.metrics import accuracy_score\n",
        "from xgboost import XGBClassifier\n",
        "\n",
        "# Assuming you have your training data in a DataFrame called 'data'\n",
        "# And 'Group_no' is your target variable\n",
        "X = data[['duration_month', 'credit_history', 'credits_no', 'poi']]  # Features\n",
        "y = data['Group_no']  # Target variable\n",
        "\n",
        "# Convert categorical variables to dummy variables\n",
        "X = pd.get_dummies(X)\n",
        "\n",
        "# Split the data into training and testing sets\n",
        "X_train, X_test, y_train, y_test = train_test_split(X, y, test_size=0.2, random_state=42)\n",
        "\n",
        "# Instantiate XGBoost classifier\n",
        "model = XGBClassifier()\n",
        "\n",
        "\n",
        "# Convert target variable to start from 0\n",
        "y_train -= 1  # Subtract 1 from each class label\n",
        "y_test -= 1   # Subtract 1 from each class label\n",
        "\n",
        "# Instantiate XGBoost classifier\n",
        "model = XGBClassifier()\n",
        "\n",
        "# Train the model\n",
        "model.fit(X_train, y_train)\n",
        "\n",
        "# Predict on the test set\n",
        "y_pred = model.predict(X_test)\n",
        "\n",
        "# Calculate accuracy\n",
        "accuracy = accuracy_score(y_test, y_pred)\n",
        "print(\"Accuracy:\", accuracy)\n"
      ]
    },
    {
      "cell_type": "markdown",
      "metadata": {
        "id": "4APBTsDFn7a_"
      },
      "source": [
        "HYPERPARAMETER TUNING"
      ]
    },
    {
      "cell_type": "code",
      "execution_count": null,
      "metadata": {
        "colab": {
          "base_uri": "https://localhost:8080/"
        },
        "id": "4qclNsV4n-A8",
        "outputId": "65b3354f-dc5e-4571-d200-b8e09dc57417"
      },
      "outputs": [
        {
          "name": "stdout",
          "output_type": "stream",
          "text": [
            "Fitting 3 folds for each of 2187 candidates, totalling 6561 fits\n"
          ]
        },
        {
          "name": "stderr",
          "output_type": "stream",
          "text": [
            "/usr/local/lib/python3.10/dist-packages/joblib/externals/loky/backend/fork_exec.py:38: RuntimeWarning: os.fork() was called. os.fork() is incompatible with multithreaded code, and JAX is multithreaded, so this will likely lead to a deadlock.\n",
            "  pid = os.fork()\n",
            "/usr/local/lib/python3.10/dist-packages/joblib/externals/loky/backend/fork_exec.py:38: RuntimeWarning: os.fork() was called. os.fork() is incompatible with multithreaded code, and JAX is multithreaded, so this will likely lead to a deadlock.\n",
            "  pid = os.fork()\n"
          ]
        },
        {
          "name": "stdout",
          "output_type": "stream",
          "text": [
            "Best Parameters: {'colsample_bytree': 1.0, 'gamma': 0.1, 'learning_rate': 0.01, 'max_depth': 9, 'min_child_weight': 5, 'n_estimators': 200, 'subsample': 0.8}\n",
            "Best Score: 0.6343512790136457\n"
          ]
        }
      ],
      "source": [
        "from sklearn.model_selection import GridSearchCV\n",
        "from xgboost import XGBClassifier\n",
        "\n",
        "# Define the parameter grid\n",
        "param_grid = {\n",
        "    'max_depth': [3, 6, 9],\n",
        "    'min_child_weight': [1, 5, 10],\n",
        "    'gamma': [0, 0.1, 0.2],\n",
        "    'subsample': [0.6, 0.8, 1.0],\n",
        "    'colsample_bytree': [0.6, 0.8, 1.0],\n",
        "    'learning_rate': [0.01, 0.1, 0.2],\n",
        "    'n_estimators': [100, 200, 300]\n",
        "}\n",
        "\n",
        "# Initialize the XGBoost classifier\n",
        "xgb = XGBClassifier(objective='multi:softmax', num_class=3, seed=42)\n",
        "\n",
        "# Perform grid search\n",
        "grid_search = GridSearchCV(estimator=xgb, param_grid=param_grid, cv=3, scoring='accuracy', verbose=2, n_jobs=-1)\n",
        "grid_search.fit(X_train, y_train)\n",
        "\n",
        "# Print the best parameters and best score\n",
        "print(\"Best Parameters:\", grid_search.best_params_)\n",
        "print(\"Best Score:\", grid_search.best_score_)\n"
      ]
    },
    {
      "cell_type": "code",
      "execution_count": null,
      "metadata": {
        "colab": {
          "base_uri": "https://localhost:8080/"
        },
        "id": "yE87GhLpq0L2",
        "outputId": "01b4f368-6644-4ff1-f002-1f5e0eb99054"
      },
      "outputs": [
        {
          "name": "stdout",
          "output_type": "stream",
          "text": [
            "Accuracy: 0.6\n"
          ]
        }
      ],
      "source": [
        "import xgboost as xgb\n",
        "\n",
        "# Set the best parameters\n",
        "best_params = {\n",
        "    'colsample_bytree': 1.0,\n",
        "    'gamma': 0.1,\n",
        "    'learning_rate': 0.01,\n",
        "    'max_depth': 9,\n",
        "    'min_child_weight': 5,\n",
        "    'n_estimators': 200,\n",
        "    'subsample': 0.8\n",
        "}\n",
        "\n",
        "# Initialize XGBoost classifier with the best parameters\n",
        "xgb_classifier = xgb.XGBClassifier(**best_params)\n",
        "\n",
        "# Train the model on the training data\n",
        "xgb_classifier.fit(X_train, y_train)\n",
        "\n",
        "# Predict on the test set\n",
        "y_pred = xgb_classifier.predict(X_test)\n",
        "\n",
        "# Evaluate the model\n",
        "accuracy = accuracy_score(y_test, y_pred)\n",
        "print(\"Accuracy:\", accuracy)\n"
      ]
    },
    {
      "cell_type": "markdown",
      "source": [
        "It seems like the accuracy of the XGBoost model with the best hyperparameters obtained from the grid search is 0.6. While it's an improvement from the previous accuracy of 0.575, there's still room for further improvement."
      ],
      "metadata": {
        "id": "liTAJogL0-rQ"
      }
    },
    {
      "cell_type": "markdown",
      "metadata": {
        "id": "y8JS2giSoUXE"
      },
      "source": [
        "# MODEL4:LOGISTIC REGRESSION"
      ]
    },
    {
      "cell_type": "code",
      "execution_count": null,
      "metadata": {
        "colab": {
          "base_uri": "https://localhost:8080/"
        },
        "id": "67ki6ou2rGLK",
        "outputId": "dec9f9d6-8b05-4812-83ce-fe3bb6bbc9bb"
      },
      "outputs": [
        {
          "name": "stdout",
          "output_type": "stream",
          "text": [
            "Accuracy: 0.61875\n"
          ]
        },
        {
          "name": "stderr",
          "output_type": "stream",
          "text": [
            "/usr/local/lib/python3.10/dist-packages/sklearn/linear_model/_logistic.py:458: ConvergenceWarning: lbfgs failed to converge (status=1):\n",
            "STOP: TOTAL NO. of ITERATIONS REACHED LIMIT.\n",
            "\n",
            "Increase the number of iterations (max_iter) or scale the data as shown in:\n",
            "    https://scikit-learn.org/stable/modules/preprocessing.html\n",
            "Please also refer to the documentation for alternative solver options:\n",
            "    https://scikit-learn.org/stable/modules/linear_model.html#logistic-regression\n",
            "  n_iter_i = _check_optimize_result(\n"
          ]
        }
      ],
      "source": [
        "from sklearn.model_selection import train_test_split\n",
        "from sklearn.linear_model import LogisticRegression\n",
        "from sklearn.metrics import accuracy_score\n",
        "\n",
        "# Split data into train and test sets\n",
        "X_train, X_test, y_train, y_test = train_test_split(X, y, test_size=0.2, random_state=42)\n",
        "\n",
        "# Initialize Logistic Regression model\n",
        "logreg_model = LogisticRegression()\n",
        "\n",
        "# Train the model\n",
        "logreg_model.fit(X_train, y_train)\n",
        "\n",
        "# Predict on the test set\n",
        "y_pred = logreg_model.predict(X_test)\n",
        "\n",
        "# Calculate accuracy\n",
        "accuracy = accuracy_score(y_test, y_pred)\n",
        "print(\"Accuracy:\", accuracy)\n"
      ]
    },
    {
      "cell_type": "markdown",
      "source": [
        "It looks like the Logistic Regression model achieved an accuracy of approximately 0.61875 on your testing data. This indicates that the model correctly predicted the class label for about 61.875% of the instances in the testing set."
      ],
      "metadata": {
        "id": "eShpCQdx09Lo"
      }
    },
    {
      "cell_type": "markdown",
      "source": [
        "# MODEL5:RANDOM FOREST"
      ],
      "metadata": {
        "id": "HBm5bAfNztJu"
      }
    },
    {
      "cell_type": "code",
      "execution_count": null,
      "metadata": {
        "colab": {
          "base_uri": "https://localhost:8080/"
        },
        "id": "oWDmSVFRrQZr",
        "outputId": "31eeef1f-003d-4ac4-b02d-2b9224e01248"
      },
      "outputs": [
        {
          "name": "stdout",
          "output_type": "stream",
          "text": [
            "Random Forest Accuracy: 0.59375\n"
          ]
        }
      ],
      "source": [
        "from sklearn.ensemble import RandomForestClassifier\n",
        "from sklearn.metrics import accuracy_score\n",
        "\n",
        "# Initialize the Random Forest classifier\n",
        "rf_classifier = RandomForestClassifier(n_estimators=100, random_state=42)\n",
        "\n",
        "# Train the classifier on the training data\n",
        "rf_classifier.fit(X_train, y_train)\n",
        "\n",
        "# Predict on the test data\n",
        "y_pred_rf = rf_classifier.predict(X_test)\n",
        "\n",
        "# Calculate accuracy\n",
        "accuracy_rf = accuracy_score(y_test, y_pred_rf)\n",
        "print(\"Random Forest Accuracy:\", accuracy_rf)\n"
      ]
    },
    {
      "cell_type": "markdown",
      "source": [
        "The accuracy of the Random Forest classifier on your test data is 0.59375, which means it correctly classified approximately 59.375% of the instances in the test set."
      ],
      "metadata": {
        "id": "gN-GOSRt05B-"
      }
    },
    {
      "cell_type": "markdown",
      "source": [
        "# USING GRADIENT BOOSTING AND RANDOM FOREST AFTER HYPERPARAMETER TUNING\n"
      ],
      "metadata": {
        "id": "HKXuxlx7z-Xz"
      }
    },
    {
      "cell_type": "code",
      "execution_count": null,
      "metadata": {
        "colab": {
          "background_save": true,
          "base_uri": "https://localhost:8080/"
        },
        "id": "g0Wpm-_Er0ui",
        "outputId": "7eb79fc1-0994-45b5-b10f-ec1fbf2a6843"
      },
      "outputs": [
        {
          "name": "stdout",
          "output_type": "stream",
          "text": [
            "Best Parameters (Random Forest): {'max_depth': 10, 'min_samples_split': 10, 'n_estimators': 100}\n",
            "Best Score (Random Forest): 0.66125\n",
            "Best Parameters (Gradient Boosting): {'learning_rate': 0.01, 'max_depth': 5, 'min_samples_split': 2, 'n_estimators': 50, 'subsample': 0.8}\n",
            "Best Score (Gradient Boosting): 0.6449999999999999\n"
          ]
        },
        {
          "name": "stderr",
          "output_type": "stream",
          "text": [
            "/usr/local/lib/python3.10/dist-packages/sklearn/linear_model/_logistic.py:458: ConvergenceWarning: lbfgs failed to converge (status=1):\n",
            "STOP: TOTAL NO. of ITERATIONS REACHED LIMIT.\n",
            "\n",
            "Increase the number of iterations (max_iter) or scale the data as shown in:\n",
            "    https://scikit-learn.org/stable/modules/preprocessing.html\n",
            "Please also refer to the documentation for alternative solver options:\n",
            "    https://scikit-learn.org/stable/modules/linear_model.html#logistic-regression\n",
            "  n_iter_i = _check_optimize_result(\n",
            "/usr/local/lib/python3.10/dist-packages/sklearn/linear_model/_logistic.py:458: ConvergenceWarning: lbfgs failed to converge (status=1):\n",
            "STOP: TOTAL NO. of ITERATIONS REACHED LIMIT.\n",
            "\n",
            "Increase the number of iterations (max_iter) or scale the data as shown in:\n",
            "    https://scikit-learn.org/stable/modules/preprocessing.html\n",
            "Please also refer to the documentation for alternative solver options:\n",
            "    https://scikit-learn.org/stable/modules/linear_model.html#logistic-regression\n",
            "  n_iter_i = _check_optimize_result(\n",
            "/usr/local/lib/python3.10/dist-packages/sklearn/linear_model/_logistic.py:458: ConvergenceWarning: lbfgs failed to converge (status=1):\n",
            "STOP: TOTAL NO. of ITERATIONS REACHED LIMIT.\n",
            "\n",
            "Increase the number of iterations (max_iter) or scale the data as shown in:\n",
            "    https://scikit-learn.org/stable/modules/preprocessing.html\n",
            "Please also refer to the documentation for alternative solver options:\n",
            "    https://scikit-learn.org/stable/modules/linear_model.html#logistic-regression\n",
            "  n_iter_i = _check_optimize_result(\n",
            "/usr/local/lib/python3.10/dist-packages/sklearn/linear_model/_logistic.py:458: ConvergenceWarning: lbfgs failed to converge (status=1):\n",
            "STOP: TOTAL NO. of ITERATIONS REACHED LIMIT.\n",
            "\n",
            "Increase the number of iterations (max_iter) or scale the data as shown in:\n",
            "    https://scikit-learn.org/stable/modules/preprocessing.html\n",
            "Please also refer to the documentation for alternative solver options:\n",
            "    https://scikit-learn.org/stable/modules/linear_model.html#logistic-regression\n",
            "  n_iter_i = _check_optimize_result(\n",
            "/usr/local/lib/python3.10/dist-packages/sklearn/linear_model/_logistic.py:458: ConvergenceWarning: lbfgs failed to converge (status=1):\n",
            "STOP: TOTAL NO. of ITERATIONS REACHED LIMIT.\n",
            "\n",
            "Increase the number of iterations (max_iter) or scale the data as shown in:\n",
            "    https://scikit-learn.org/stable/modules/preprocessing.html\n",
            "Please also refer to the documentation for alternative solver options:\n",
            "    https://scikit-learn.org/stable/modules/linear_model.html#logistic-regression\n",
            "  n_iter_i = _check_optimize_result(\n",
            "/usr/local/lib/python3.10/dist-packages/sklearn/linear_model/_logistic.py:458: ConvergenceWarning: lbfgs failed to converge (status=1):\n",
            "STOP: TOTAL NO. of ITERATIONS REACHED LIMIT.\n",
            "\n",
            "Increase the number of iterations (max_iter) or scale the data as shown in:\n",
            "    https://scikit-learn.org/stable/modules/preprocessing.html\n",
            "Please also refer to the documentation for alternative solver options:\n",
            "    https://scikit-learn.org/stable/modules/linear_model.html#logistic-regression\n",
            "  n_iter_i = _check_optimize_result(\n",
            "/usr/local/lib/python3.10/dist-packages/sklearn/linear_model/_logistic.py:458: ConvergenceWarning: lbfgs failed to converge (status=1):\n",
            "STOP: TOTAL NO. of ITERATIONS REACHED LIMIT.\n",
            "\n",
            "Increase the number of iterations (max_iter) or scale the data as shown in:\n",
            "    https://scikit-learn.org/stable/modules/preprocessing.html\n",
            "Please also refer to the documentation for alternative solver options:\n",
            "    https://scikit-learn.org/stable/modules/linear_model.html#logistic-regression\n",
            "  n_iter_i = _check_optimize_result(\n",
            "/usr/local/lib/python3.10/dist-packages/sklearn/linear_model/_logistic.py:458: ConvergenceWarning: lbfgs failed to converge (status=1):\n",
            "STOP: TOTAL NO. of ITERATIONS REACHED LIMIT.\n",
            "\n",
            "Increase the number of iterations (max_iter) or scale the data as shown in:\n",
            "    https://scikit-learn.org/stable/modules/preprocessing.html\n",
            "Please also refer to the documentation for alternative solver options:\n",
            "    https://scikit-learn.org/stable/modules/linear_model.html#logistic-regression\n",
            "  n_iter_i = _check_optimize_result(\n",
            "/usr/local/lib/python3.10/dist-packages/sklearn/linear_model/_logistic.py:458: ConvergenceWarning: lbfgs failed to converge (status=1):\n",
            "STOP: TOTAL NO. of ITERATIONS REACHED LIMIT.\n",
            "\n",
            "Increase the number of iterations (max_iter) or scale the data as shown in:\n",
            "    https://scikit-learn.org/stable/modules/preprocessing.html\n",
            "Please also refer to the documentation for alternative solver options:\n",
            "    https://scikit-learn.org/stable/modules/linear_model.html#logistic-regression\n",
            "  n_iter_i = _check_optimize_result(\n",
            "/usr/local/lib/python3.10/dist-packages/sklearn/linear_model/_logistic.py:458: ConvergenceWarning: lbfgs failed to converge (status=1):\n",
            "STOP: TOTAL NO. of ITERATIONS REACHED LIMIT.\n",
            "\n",
            "Increase the number of iterations (max_iter) or scale the data as shown in:\n",
            "    https://scikit-learn.org/stable/modules/preprocessing.html\n",
            "Please also refer to the documentation for alternative solver options:\n",
            "    https://scikit-learn.org/stable/modules/linear_model.html#logistic-regression\n",
            "  n_iter_i = _check_optimize_result(\n",
            "/usr/local/lib/python3.10/dist-packages/sklearn/linear_model/_logistic.py:458: ConvergenceWarning: lbfgs failed to converge (status=1):\n",
            "STOP: TOTAL NO. of ITERATIONS REACHED LIMIT.\n",
            "\n",
            "Increase the number of iterations (max_iter) or scale the data as shown in:\n",
            "    https://scikit-learn.org/stable/modules/preprocessing.html\n",
            "Please also refer to the documentation for alternative solver options:\n",
            "    https://scikit-learn.org/stable/modules/linear_model.html#logistic-regression\n",
            "  n_iter_i = _check_optimize_result(\n",
            "/usr/local/lib/python3.10/dist-packages/sklearn/linear_model/_logistic.py:458: ConvergenceWarning: lbfgs failed to converge (status=1):\n",
            "STOP: TOTAL NO. of ITERATIONS REACHED LIMIT.\n",
            "\n",
            "Increase the number of iterations (max_iter) or scale the data as shown in:\n",
            "    https://scikit-learn.org/stable/modules/preprocessing.html\n",
            "Please also refer to the documentation for alternative solver options:\n",
            "    https://scikit-learn.org/stable/modules/linear_model.html#logistic-regression\n",
            "  n_iter_i = _check_optimize_result(\n",
            "/usr/local/lib/python3.10/dist-packages/sklearn/linear_model/_logistic.py:458: ConvergenceWarning: lbfgs failed to converge (status=1):\n",
            "STOP: TOTAL NO. of ITERATIONS REACHED LIMIT.\n",
            "\n",
            "Increase the number of iterations (max_iter) or scale the data as shown in:\n",
            "    https://scikit-learn.org/stable/modules/preprocessing.html\n",
            "Please also refer to the documentation for alternative solver options:\n",
            "    https://scikit-learn.org/stable/modules/linear_model.html#logistic-regression\n",
            "  n_iter_i = _check_optimize_result(\n",
            "/usr/local/lib/python3.10/dist-packages/sklearn/linear_model/_logistic.py:458: ConvergenceWarning: lbfgs failed to converge (status=1):\n",
            "STOP: TOTAL NO. of ITERATIONS REACHED LIMIT.\n",
            "\n",
            "Increase the number of iterations (max_iter) or scale the data as shown in:\n",
            "    https://scikit-learn.org/stable/modules/preprocessing.html\n",
            "Please also refer to the documentation for alternative solver options:\n",
            "    https://scikit-learn.org/stable/modules/linear_model.html#logistic-regression\n",
            "  n_iter_i = _check_optimize_result(\n",
            "/usr/local/lib/python3.10/dist-packages/sklearn/linear_model/_logistic.py:458: ConvergenceWarning: lbfgs failed to converge (status=1):\n",
            "STOP: TOTAL NO. of ITERATIONS REACHED LIMIT.\n",
            "\n",
            "Increase the number of iterations (max_iter) or scale the data as shown in:\n",
            "    https://scikit-learn.org/stable/modules/preprocessing.html\n",
            "Please also refer to the documentation for alternative solver options:\n",
            "    https://scikit-learn.org/stable/modules/linear_model.html#logistic-regression\n",
            "  n_iter_i = _check_optimize_result(\n",
            "/usr/local/lib/python3.10/dist-packages/sklearn/linear_model/_logistic.py:458: ConvergenceWarning: lbfgs failed to converge (status=1):\n",
            "STOP: TOTAL NO. of ITERATIONS REACHED LIMIT.\n",
            "\n",
            "Increase the number of iterations (max_iter) or scale the data as shown in:\n",
            "    https://scikit-learn.org/stable/modules/preprocessing.html\n",
            "Please also refer to the documentation for alternative solver options:\n",
            "    https://scikit-learn.org/stable/modules/linear_model.html#logistic-regression\n",
            "  n_iter_i = _check_optimize_result(\n",
            "/usr/local/lib/python3.10/dist-packages/sklearn/linear_model/_logistic.py:458: ConvergenceWarning: lbfgs failed to converge (status=1):\n",
            "STOP: TOTAL NO. of ITERATIONS REACHED LIMIT.\n",
            "\n",
            "Increase the number of iterations (max_iter) or scale the data as shown in:\n",
            "    https://scikit-learn.org/stable/modules/preprocessing.html\n",
            "Please also refer to the documentation for alternative solver options:\n",
            "    https://scikit-learn.org/stable/modules/linear_model.html#logistic-regression\n",
            "  n_iter_i = _check_optimize_result(\n",
            "/usr/local/lib/python3.10/dist-packages/sklearn/linear_model/_logistic.py:458: ConvergenceWarning: lbfgs failed to converge (status=1):\n",
            "STOP: TOTAL NO. of ITERATIONS REACHED LIMIT.\n",
            "\n",
            "Increase the number of iterations (max_iter) or scale the data as shown in:\n",
            "    https://scikit-learn.org/stable/modules/preprocessing.html\n",
            "Please also refer to the documentation for alternative solver options:\n",
            "    https://scikit-learn.org/stable/modules/linear_model.html#logistic-regression\n",
            "  n_iter_i = _check_optimize_result(\n",
            "/usr/local/lib/python3.10/dist-packages/sklearn/linear_model/_logistic.py:458: ConvergenceWarning: lbfgs failed to converge (status=1):\n",
            "STOP: TOTAL NO. of ITERATIONS REACHED LIMIT.\n",
            "\n",
            "Increase the number of iterations (max_iter) or scale the data as shown in:\n",
            "    https://scikit-learn.org/stable/modules/preprocessing.html\n",
            "Please also refer to the documentation for alternative solver options:\n",
            "    https://scikit-learn.org/stable/modules/linear_model.html#logistic-regression\n",
            "  n_iter_i = _check_optimize_result(\n",
            "/usr/local/lib/python3.10/dist-packages/sklearn/linear_model/_logistic.py:458: ConvergenceWarning: lbfgs failed to converge (status=1):\n",
            "STOP: TOTAL NO. of ITERATIONS REACHED LIMIT.\n",
            "\n",
            "Increase the number of iterations (max_iter) or scale the data as shown in:\n",
            "    https://scikit-learn.org/stable/modules/preprocessing.html\n",
            "Please also refer to the documentation for alternative solver options:\n",
            "    https://scikit-learn.org/stable/modules/linear_model.html#logistic-regression\n",
            "  n_iter_i = _check_optimize_result(\n"
          ]
        },
        {
          "name": "stdout",
          "output_type": "stream",
          "text": [
            "Best Parameters (Logistic Regression): {'C': 1, 'solver': 'lbfgs'}\n",
            "Best Score (Logistic Regression): 0.6475\n"
          ]
        },
        {
          "name": "stderr",
          "output_type": "stream",
          "text": [
            "/usr/local/lib/python3.10/dist-packages/sklearn/linear_model/_logistic.py:458: ConvergenceWarning: lbfgs failed to converge (status=1):\n",
            "STOP: TOTAL NO. of ITERATIONS REACHED LIMIT.\n",
            "\n",
            "Increase the number of iterations (max_iter) or scale the data as shown in:\n",
            "    https://scikit-learn.org/stable/modules/preprocessing.html\n",
            "Please also refer to the documentation for alternative solver options:\n",
            "    https://scikit-learn.org/stable/modules/linear_model.html#logistic-regression\n",
            "  n_iter_i = _check_optimize_result(\n"
          ]
        }
      ],
      "source": [
        "from sklearn.model_selection import GridSearchCV\n",
        "from sklearn.ensemble import RandomForestClassifier, GradientBoostingClassifier\n",
        "from sklearn.linear_model import LogisticRegression\n",
        "from sklearn.metrics import accuracy_score\n",
        "from sklearn.preprocessing import LabelEncoder\n",
        "import pandas as pd\n",
        "\n",
        "# Load your training dataset\n",
        "train_data = data\n",
        "\n",
        "# Perform feature engineering on training data\n",
        "label_encoders = {}\n",
        "for column in train_data.select_dtypes(include=['object']).columns:\n",
        "    label_encoders[column] = LabelEncoder()\n",
        "    train_data[column] = label_encoders[column].fit_transform(train_data[column])\n",
        "\n",
        "# Split training data into features (X) and target (y)\n",
        "X_train = train_data.drop(columns=[\"Group_no\"])\n",
        "y_train = train_data[\"Group_no\"]\n",
        "\n",
        "# Load your testing dataset\n",
        "test_data = test_df\n",
        "\n",
        "# Perform feature engineering on testing data\n",
        "for column in test_data.select_dtypes(include=['object']).columns:\n",
        "    test_data[column] = label_encoders[column].transform(test_data[column])\n",
        "\n",
        "# Split testing data into features (X) and target (y)\n",
        "X_test = test_data  # No need to drop \"Group_no\" column\n",
        "# y_test is not available, assuming it's not needed for prediction\n",
        "\n",
        "# Hyperparameter tuning with Random Forest\n",
        "param_grid_rf = {\n",
        "    'n_estimators': [50, 100, 200],\n",
        "    'max_depth': [None, 10, 20],\n",
        "    'min_samples_split': [2, 5, 10]\n",
        "}\n",
        "rf = RandomForestClassifier(random_state=42)\n",
        "grid_search_rf = GridSearchCV(rf, param_grid_rf, cv=5, scoring='accuracy')\n",
        "grid_search_rf.fit(X_train, y_train)\n",
        "print(\"Best Parameters (Random Forest):\", grid_search_rf.best_params_)\n",
        "print(\"Best Score (Random Forest):\", grid_search_rf.best_score_)\n",
        "\n",
        "# Hyperparameter tuning with Gradient Boosting\n",
        "param_grid_gb = {\n",
        "    'n_estimators': [50, 100, 200],\n",
        "    'learning_rate': [0.01, 0.1, 0.2],\n",
        "    'max_depth': [3, 5, 7],\n",
        "    'subsample': [0.8, 1.0],\n",
        "    'min_samples_split': [2, 5, 10]\n",
        "}\n",
        "gb = GradientBoostingClassifier(random_state=42)\n",
        "grid_search_gb = GridSearchCV(gb, param_grid_gb, cv=5, scoring='accuracy')\n",
        "grid_search_gb.fit(X_train, y_train)\n",
        "print(\"Best Parameters (Gradient Boosting):\", grid_search_gb.best_params_)\n",
        "print(\"Best Score (Gradient Boosting):\", grid_search_gb.best_score_)\n",
        "\n",
        "# Hyperparameter tuning with Logistic Regression\n",
        "param_grid_lr = {\n",
        "    'C': [0.01, 0.1, 1, 10],\n",
        "    'solver': ['liblinear', 'lbfgs']\n",
        "}\n",
        "lr = LogisticRegression(max_iter=1000, random_state=42)\n",
        "grid_search_lr = GridSearchCV(lr, param_grid_lr, cv=5, scoring='accuracy')\n",
        "grid_search_lr.fit(X_train, y_train)\n",
        "print(\"Best Parameters (Logistic Regression):\", grid_search_lr.best_params_)\n",
        "print(\"Best Score (Logistic Regression):\", grid_search_lr.best_score_)\n",
        "\n",
        "# Use the best models from hyperparameter tuning\n",
        "best_rf = grid_search_rf.best_estimator_\n",
        "best_gb = grid_search_gb.best_estimator_\n",
        "best_lr = grid_search_lr.best_estimator_\n",
        "\n",
        "# Predictions on the testing dataset\n",
        "y_pred_rf = best_rf.predict(X_test)\n",
        "\n"
      ]
    },
    {
      "cell_type": "code",
      "execution_count": 35,
      "metadata": {
        "id": "u1b6j6EPsPAu",
        "colab": {
          "base_uri": "https://localhost:8080/"
        },
        "outputId": "f6ed4510-0872-48d0-9f83-8d5f79872a39"
      },
      "outputs": [
        {
          "output_type": "stream",
          "name": "stdout",
          "text": [
            "Gradient Boosting Predictions: [2 2 2 3 3 1 3 3 1 3 3 3 1 1 1 2 2 2 2 3 3 2 2 3 2 2 2 2 2 2 2 2 1 2 2 3 3\n",
            " 2 2 2 2 2 2 2 2 2 2 3 2 3 2 2 3 3 1 3 3 2 2 2 2 2 2 2 2 2 2 2 2 3 1 2 2 3\n",
            " 2 3 2 2 2 1 2 2 2 2 2 3 2 1 1 2 2 3 3 1 2 2 2 2 2 2 2 2 1 3 2 2 2 2 2 2 2\n",
            " 2 2 2 2 1 2 1 2 2 2 1 3 2 2 3 2 1 2 3 2 3 2 3 3 1 3 3 2 1 2 2 2 2 2 1 2 2\n",
            " 2 2 2 1 2 1 3 2 2 2 2 2 2 2 2 2 3 2 2 2 1 2 3 2 2 2 2 2 2 2 3 2 2 1 2 2 2\n",
            " 3 1 2 2 2 2 3 2 2 3 2 2 3 2 1]\n",
            "Logistic Regression Predictions: [2 2 1 3 2 1 3 3 1 2 3 3 1 1 1 1 2 2 1 3 3 2 1 3 1 2 1 2 1 1 2 2 1 1 2 3 3\n",
            " 3 2 2 2 2 3 2 2 1 1 2 3 3 2 1 3 3 1 2 3 3 2 2 2 2 2 2 2 2 2 2 2 3 1 3 2 3\n",
            " 2 3 1 2 3 1 1 1 2 3 2 3 2 1 1 2 1 3 3 1 3 1 2 3 2 2 2 1 1 2 2 2 2 1 2 2 2\n",
            " 2 1 2 2 1 2 1 1 2 2 1 3 2 1 3 2 1 2 3 2 3 3 3 3 1 3 3 1 1 2 3 2 3 2 1 2 3\n",
            " 2 1 2 1 2 1 3 2 2 3 2 2 2 1 2 1 3 2 2 2 1 2 3 2 1 1 2 2 2 2 2 2 1 1 1 1 2\n",
            " 3 1 2 1 2 2 3 2 1 3 3 2 3 1 1]\n"
          ]
        }
      ],
      "source": [
        "# Predictions using Gradient Boosting model\n",
        "y_pred_gb = best_gb.predict(X_test)\n",
        "\n",
        "# Predictions using Logistic Regression model\n",
        "y_pred_lr = best_lr.predict(X_test)\n",
        "\n",
        "# Output predictions for further analysis or submission\n",
        "# Assuming you want to save predictions to a CSV file\n",
        "predictions_df = pd.DataFrame({'Gradient_Boosting_Predictions': y_pred_gb, 'Logistic_Regression_Predictions': y_pred_lr})\n",
        "predictions_df.to_csv('predictions.csv', index=False)\n",
        "\n",
        "# Alternatively, you can print the predictions\n",
        "print(\"Gradient Boosting Predictions:\", y_pred_gb)\n",
        "print(\"Logistic Regression Predictions:\", y_pred_lr)\n"
      ]
    },
    {
      "cell_type": "markdown",
      "source": [
        "# CLASSIFIED PREDICTIONS"
      ],
      "metadata": {
        "id": "KZWxTtMey8Ph"
      }
    },
    {
      "cell_type": "markdown",
      "source": [
        "Regarding the accuracy comparison:\n",
        "\n",
        "1)SVM: Cross-Validation Mean Accuracy: 0.60625\n",
        "\n",
        "2)ANN: Validation Accuracy: 0.625\n",
        "\n",
        "3)XGBoost: Accuracy: 0.575\n",
        "\n",
        "4)Logistic Regression: Accuracy: 0.61875\n",
        "\n",
        "5)Random Forest: Accuracy: 0.59375\n",
        "\n",
        "6)GBM and Random Forest:\n",
        "\n",
        "  Best Random Forest Score: 0.66125,\n",
        "  Best GBM Score: 0.645\n",
        "\n",
        "The model with the maximum accuracy among these options is the Random Forest model with a score of **0.66125**."
      ],
      "metadata": {
        "id": "mFGoB5fx0OnD"
      }
    },
    {
      "cell_type": "code",
      "source": [
        "# Create a DataFrame with serialnuma and groupno\n",
        "predictions_df = pd.DataFrame({\n",
        "    \"serialnuma\": test_data[\"sno\"],  # Assuming \"serialnuma\" is the column name in your testing dataset\n",
        "    \"groupno\": y_pred_rf\n",
        "})\n",
        "\n",
        "# Display the DataFrame\n",
        "print(predictions_df)\n"
      ],
      "metadata": {
        "colab": {
          "base_uri": "https://localhost:8080/"
        },
        "id": "2VMuPSp5y6Ir",
        "outputId": "28bd7715-2236-478c-e03a-f3240c7256ef"
      },
      "execution_count": 37,
      "outputs": [
        {
          "output_type": "stream",
          "name": "stdout",
          "text": [
            "     serialnuma  groupno\n",
            "0             1        2\n",
            "1             2        2\n",
            "2             3        2\n",
            "3             4        3\n",
            "4             5        3\n",
            "..          ...      ...\n",
            "195         196        3\n",
            "196         197        1\n",
            "197         198        3\n",
            "198         199        1\n",
            "199         200        1\n",
            "\n",
            "[200 rows x 2 columns]\n"
          ]
        }
      ]
    },
    {
      "cell_type": "code",
      "source": [
        "# Save the DataFrame as a CSV file\n",
        "predictions_df.to_csv(\"C&T_classification.csv\", index=False)\n"
      ],
      "metadata": {
        "id": "vQTaBBhWzM7o"
      },
      "execution_count": 38,
      "outputs": []
    },
    {
      "cell_type": "code",
      "source": [
        "import matplotlib.pyplot as plt\n",
        "\n",
        "# Feature importance for Random Forest\n",
        "feature_importance_rf = best_rf.feature_importances_\n",
        "\n",
        "# Plotting feature importance for Random Forest\n",
        "plt.figure(figsize=(10, 6))\n",
        "plt.barh(X_train.columns, feature_importance_rf)\n",
        "plt.xlabel('Feature Importance')\n",
        "plt.ylabel('Features')\n",
        "plt.title('Random Forest Feature Importance')\n",
        "plt.show()\n"
      ],
      "metadata": {
        "colab": {
          "base_uri": "https://localhost:8080/",
          "height": 564
        },
        "id": "WSQ-cxrK4bPR",
        "outputId": "6e356a8a-2131-4a14-da75-2ddca37e2549"
      },
      "execution_count": 40,
      "outputs": [
        {
          "output_type": "display_data",
          "data": {
            "text/plain": [
              "<Figure size 1000x600 with 1 Axes>"
            ],
            "image/png": "[encoded data removed]"
          },
          "metadata": {}
        }
      ]
    },
    {
      "cell_type": "markdown",
      "source": [
        "Important Features:\n",
        "\n",
        "\n",
        "**foreigner: **This feature seems to be the most important according to the plot. It suggests that whether an applicant is a foreigner or not significantly impacts the model's decision on creditworthiness.\n",
        "\n",
        "**telephone: **Having a telephone appears to be another important factor influencing the model's prediction.\n",
        "\n",
        "Moderately Important Features:\n",
        "\n",
        "**liables (dependents)**: The number of dependents an applicant has seems to be moderately important for the model.\n",
        "\n",
        "**job_type**: The specific type of job the applicant holds also seems to have some influence.\n",
        "\n",
        "Less Important Features:\n",
        "\n",
        "All other features, including credit history, housing type, loan purpose, etc., appear to have a lower impact on the model's prediction compared to the features mentioned above."
      ],
      "metadata": {
        "id": "eN2gZiAd5lqm"
      }
    },
    {
      "cell_type": "markdown",
      "source": [
        "***Overall, this feature importance plot suggests that the model relies heavily on an applicant's residency status and phone ownership to predict creditworthiness. Further analysis is recommended to ensure the model considers the most relevant factors and avoids biases.***"
      ],
      "metadata": {
        "id": "4AE7sY1P6OH1"
      }
    },
    {
      "cell_type": "markdown",
      "source": [],
      "metadata": {
        "id": "ESfJxyc66ODt"
      }
    },
    {
      "cell_type": "code",
      "source": [
        "# Prediction distribution plot for Random Forest\n",
        "plt.figure(figsize=(8, 6))\n",
        "plt.hist(y_pred_rf, bins=10, color='skyblue', alpha=0.7)\n",
        "plt.xlabel('Predicted Values')\n",
        "plt.ylabel('Frequency')\n",
        "plt.title('Random Forest Prediction Distribution')\n",
        "plt.show()\n",
        "\n"
      ],
      "metadata": {
        "colab": {
          "base_uri": "https://localhost:8080/",
          "height": 564
        },
        "id": "piu2ijM64d1a",
        "outputId": "46b0df56-316c-49ee-dc1e-145556c61e47"
      },
      "execution_count": 41,
      "outputs": [
        {
          "output_type": "display_data",
          "data": {
            "text/plain": [
              "<Figure size 800x600 with 1 Axes>"
            ],
            "image/png": "[encoded data removed]"
          },
          "metadata": {}
        }
      ]
    },
    {
      "cell_type": "markdown",
      "source": [
        "The prediction distribution graph shows how likely applicants are to be approved for a loan (binary classification).\n",
        "\n",
        "X-axis: Represents the predicted probability of loan approval (0 = unlikely, 1 = highly likely).\n",
        "\n",
        "Y-axis: Represents the number of applicants for each probability range.\n",
        "Distribution Analysis:\n",
        "\n",
        "**Balanced distribution:** A bell-shaped curve centered around 0.5 suggests the model predicts a similar number of approvals and rejections.\n",
        "\n",
        "**Bias:** A skewed curve towards 0 or 1 indicates the model favors approvals (skewed towards 1) or rejections (skewed towards 0).\n",
        "\n",
        "**Uncertainty:** Multiple peaks might suggest difficulty distinguishing between approval and rejection for some applicants.\n"
      ],
      "metadata": {
        "id": "ATAbo6f56wb1"
      }
    },
    {
      "cell_type": "markdown",
      "source": [],
      "metadata": {
        "id": "5PiZYjs_4mc1"
      }
    },
    {
      "cell_type": "code",
      "source": [
        "from sklearn.metrics import roc_curve, precision_recall_curve, auc\n",
        "import matplotlib.pyplot as plt\n",
        "\n",
        "# Get the number of unique classes in y_test\n",
        "num_classes = len(np.unique(y_test))\n",
        "\n",
        "# Get predicted probabilities instead of predictions\n",
        "y_pred_prob_rf = best_rf.predict_proba(X_test)\n"
      ],
      "metadata": {
        "id": "jpetC6-_4nYa"
      },
      "execution_count": 47,
      "outputs": []
    }
  ],
  "metadata": {
    "colab": {
      "toc_visible": true,
      "provenance": [],
      "authorship_tag": "ABX9TyMD6+HqiFxukdxd/YaN/vqg",
      "include_colab_link": true
    },
    "kernelspec": {
      "display_name": "Python 3",
      "name": "python3"
    },
    "language_info": {
      "name": "python"
    }
  },
  "nbformat": 4,
  "nbformat_minor": 0
}